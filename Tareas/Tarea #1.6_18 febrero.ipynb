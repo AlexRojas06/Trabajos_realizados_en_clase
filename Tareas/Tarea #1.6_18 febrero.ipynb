{
 "cells": [
  {
   "cell_type": "markdown",
   "metadata": {},
   "source": [
    "Robótica Industrial\n",
    "--\n",
    "\n",
    "Alejandro Rojas Barba \n",
    "\n",
    "Fecha de entrega: 20 de febrero del 2019\n",
    "\n",
    "Tarea #6"
   ]
  },
  {
   "cell_type": "markdown",
   "metadata": {},
   "source": [
    "No estoy seguro si en esta clase dejó tarea porque fue una antes del examen"
   ]
  }
 ],
 "metadata": {
  "kernelspec": {
   "display_name": "Python 3",
   "language": "python",
   "name": "python3"
  },
  "language_info": {
   "codemirror_mode": {
    "name": "ipython",
    "version": 3
   },
   "file_extension": ".py",
   "mimetype": "text/x-python",
   "name": "python",
   "nbconvert_exporter": "python",
   "pygments_lexer": "ipython3",
   "version": "3.7.1"
  }
 },
 "nbformat": 4,
 "nbformat_minor": 2
}
