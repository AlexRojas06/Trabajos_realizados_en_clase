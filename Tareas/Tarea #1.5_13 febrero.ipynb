{
 "cells": [
  {
   "cell_type": "markdown",
   "metadata": {},
   "source": [
    "Robótica Industrial\n",
    "--\n",
    "\n",
    "Alejandro Rojas Barba \n",
    "\n",
    "Fecha de entrega: 18 de febrero del 2019\n",
    "\n",
    "Tarea #5"
   ]
  },
  {
   "cell_type": "markdown",
   "metadata": {},
   "source": [
    "Tarea:\n",
    "\n",
    "www.coin-or.org/PuLP/CaseStudies/a_blending_problem.html"
   ]
  }
 ],
 "metadata": {
  "kernelspec": {
   "display_name": "Python 3",
   "language": "python",
   "name": "python3"
  },
  "language_info": {
   "codemirror_mode": {
    "name": "ipython",
    "version": 3
   },
   "file_extension": ".py",
   "mimetype": "text/x-python",
   "name": "python",
   "nbconvert_exporter": "python",
   "pygments_lexer": "ipython3",
   "version": "3.7.1"
  }
 },
 "nbformat": 4,
 "nbformat_minor": 2
}
