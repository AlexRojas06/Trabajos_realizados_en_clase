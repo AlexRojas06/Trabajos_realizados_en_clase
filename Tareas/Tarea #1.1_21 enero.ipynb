{
 "cells": [
  {
   "cell_type": "markdown",
   "metadata": {},
   "source": [
    "\n",
    "Robótica Industrial \n",
    "--\n",
    "\n",
    "Alejandro Rojas Barba \n",
    "\n",
    "Fecha de entrega: 23 de enero del 2019\n",
    "\n",
    "Tarea #1              \n"
   ]
  },
  {
   "cell_type": "markdown",
   "metadata": {},
   "source": [
    "Ejercicio 1: Diseñar un programa que sume dos tuplas de números\n",
    "--"
   ]
  },
  {
   "cell_type": "code",
   "execution_count": 11,
   "metadata": {},
   "outputs": [
    {
     "name": "stdout",
     "output_type": "stream",
     "text": [
      "(8, 10, 12, 14, 16, 18)\n"
     ]
    }
   ],
   "source": [
    "Tupla_a=(1,2,3,4,5,6)\n",
    "Tupla_b=(7,8,9,10,11,12)\n",
    "Lista_c=[]\n",
    "i=0;\n",
    "\n",
    "if (len(Tupla_a)==len(Tupla_b)): \n",
    "    while i<len(Tupla_a):\n",
    "        Lista_c.append(Tupla_a[i]+Tupla_b[i])\n",
    "        i=i+1\n",
    "    print(tuple (Lista_c))\n",
    "else:\n",
    "    print (\"No se pueden sumar tuplas de diferente longitud\")\n",
    "\n",
    "\n"
   ]
  },
  {
   "cell_type": "markdown",
   "metadata": {},
   "source": [
    "Ejercicio 2: Diseñar un programa que pida los valores de dos vectores y realice el producto punto de estos\n",
    "--"
   ]
  },
  {
   "cell_type": "code",
   "execution_count": 12,
   "metadata": {},
   "outputs": [
    {
     "name": "stdout",
     "output_type": "stream",
     "text": [
      "Dame la longitud de los vectores: 2\n",
      "Valor vector 1: 1\n",
      "Valor vector 1: 1\n",
      "Valor vector 2: 1\n",
      "Valor vector 2: 1\n",
      "2\n"
     ]
    }
   ],
   "source": [
    "longitud=input(\"Dame la longitud de los vectores: \")\n",
    "vector_1=[]\n",
    "vector_2=[]\n",
    "c=0\n",
    "i=0\n",
    "p_punto=0\n",
    "\n",
    "while i<int(longitud):\n",
    "    c=input(\"Valor vector 1: \")\n",
    "    vector_1.append(c)\n",
    "    i+=1\n",
    "i=0\n",
    "while i<int(longitud):\n",
    "    c=input(\"Valor vector 2: \")\n",
    "    vector_2.append(c)\n",
    "    i+=1\n",
    "i=0\n",
    "while i<int(longitud):\n",
    "    p_punto=p_punto+int(vector_1[i])*int(vector_2[i])\n",
    "    i+=1\n",
    "print(p_punto)"
   ]
  },
  {
   "cell_type": "markdown",
   "metadata": {},
   "source": [
    "Ejercicio 3: Diseñar un programa que pida un nombre y que cambie las vocales por numeros. Ej. Nombre: Michel y lo cambie a M4ch3l. Utilizar diccionarios\n",
    "--"
   ]
  },
  {
   "cell_type": "code",
   "execution_count": 6,
   "metadata": {},
   "outputs": [
    {
     "name": "stdout",
     "output_type": "stream",
     "text": [
      "Escribe el nombre: alejandro\n",
      "4l3j4ndr0"
     ]
    }
   ],
   "source": [
    "Diccionario={\"a\":\"4\",\"e\":\"3\",\"i\":\"1\",\"o\":\"0\",\"u\":\"6\"}\n",
    "vocales=\"aeiou\"\n",
    "nombre=input(\"Escribe el nombre: \")\n",
    "nombre=list(nombre)\n",
    "i=0\n",
    "j=0\n",
    "    \n",
    "while i<len(nombre):\n",
    "    while j<=len(vocales)-1:\n",
    "        if nombre[i]==vocales[j]:\n",
    "            nombre[i]=Diccionario[vocales[j]]\n",
    "        j+=1\n",
    "    j=0\n",
    "    i+=1\n",
    "i=0    \n",
    "\n",
    "while i<longitud:\n",
    "    print(nombre[i],end=\"\")\n",
    "    i+=1"
   ]
  },
  {
   "cell_type": "markdown",
   "metadata": {},
   "source": [
    "Ejercicio 3 utilizando switch en lugar de ciclos\n",
    "--"
   ]
  },
  {
   "cell_type": "code",
   "execution_count": 60,
   "metadata": {},
   "outputs": [
    {
     "name": "stdout",
     "output_type": "stream",
     "text": [
      "Escribe el nombre: alejandro\n",
      "4l3j4ndr0"
     ]
    }
   ],
   "source": [
    "#Diseñar un programa que pida un nombre y que cambie las vocales por numeros. Ej. Nombre: Michel y lo cambie a M4ch3l.\n",
    "#Utilizar diccionarios\n",
    "\n",
    "#Metodo largo\n",
    "\n",
    "Diccionario={\"a\":\"4\",\"e\":\"3\",\"i\":\"1\",\"o\":\"0\",\"u\":\"6\"}\n",
    "nombre=input(\"Escribe el nombre: \")\n",
    "nombre=list(nombre)\n",
    "longitud=len(nombre)\n",
    "i=0\n",
    "\n",
    "while i<longitud:\n",
    "    if nombre[i]==\"a\":\n",
    "        nombre[i]=Diccionario[\"a\"]\n",
    "    elif nombre[i]==\"e\":\n",
    "        nombre[i]=Diccionario[\"e\"]\n",
    "    elif nombre[i]==\"i\":\n",
    "        nombre[i]=Diccionario[\"i\"]\n",
    "    elif nombre[i]==\"o\":\n",
    "        nombre[i]=Diccionario[\"o\"]\n",
    "    elif nombre[i]==\"u\":\n",
    "        nombre[i]=Diccionario[\"u\"]\n",
    "    i+=1\n",
    "i=0    \n",
    "while i<longitud:\n",
    "    print(nombre[i],end=\"\")\n",
    "    i+=1"
   ]
  }
 ],
 "metadata": {
  "kernelspec": {
   "display_name": "Python 3",
   "language": "python",
   "name": "python3"
  },
  "language_info": {
   "codemirror_mode": {
    "name": "ipython",
    "version": 3
   },
   "file_extension": ".py",
   "mimetype": "text/x-python",
   "name": "python",
   "nbconvert_exporter": "python",
   "pygments_lexer": "ipython3",
   "version": "3.7.1"
  }
 },
 "nbformat": 4,
 "nbformat_minor": 2
}
