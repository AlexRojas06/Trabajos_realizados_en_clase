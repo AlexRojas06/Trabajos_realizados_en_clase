{
 "cells": [
  {
   "cell_type": "markdown",
   "metadata": {},
   "source": [
    "Robótica Industrial\n",
    "--\n",
    "\n",
    "Alejandro Rojas Barba \n",
    "\n",
    "Fecha de entrega: 28 de enero del 2019\n",
    "\n",
    "Tarea #2"
   ]
  },
  {
   "cell_type": "markdown",
   "metadata": {},
   "source": [
    "Crear funciones para realizar las siguientes operaciones:\n",
    "\n",
    "a+b+c+d\n",
    "\n",
    "$x^2$\n",
    "\n",
    "\n",
    "Dada una lista de elementos calcular la media y desviación estandar"
   ]
  },
  {
   "cell_type": "markdown",
   "metadata": {},
   "source": [
    "Realizar la operación a+b+c+d\n",
    "--"
   ]
  },
  {
   "cell_type": "code",
   "execution_count": 2,
   "metadata": {},
   "outputs": [
    {
     "name": "stdout",
     "output_type": "stream",
     "text": [
      "5\n"
     ]
    }
   ],
   "source": [
    "def suma (a,b,c,d):\n",
    "    valor=a+b+c+d\n",
    "    print(valor)\n",
    "\n",
    "suma(1,2,1,1)"
   ]
  },
  {
   "cell_type": "markdown",
   "metadata": {},
   "source": [
    "Realizar la operación $x^2$\n",
    "--"
   ]
  },
  {
   "cell_type": "code",
   "execution_count": 3,
   "metadata": {},
   "outputs": [
    {
     "name": "stdout",
     "output_type": "stream",
     "text": [
      "10000\n"
     ]
    }
   ],
   "source": [
    "def potencia (x):\n",
    "    y=x**2\n",
    "    print(y)\n",
    "\n",
    "potencia(100)"
   ]
  },
  {
   "cell_type": "markdown",
   "metadata": {},
   "source": [
    "Media\n",
    "--"
   ]
  },
  {
   "cell_type": "code",
   "execution_count": 5,
   "metadata": {},
   "outputs": [
    {
     "data": {
      "text/plain": [
       "5.0"
      ]
     },
     "execution_count": 5,
     "metadata": {},
     "output_type": "execute_result"
    }
   ],
   "source": [
    "def media (lista):\n",
    "    x=0\n",
    "    for i in lista: #i toma los valores dentro de la lista\n",
    "        x=x+i\n",
    "    media=x/len(lista)\n",
    "    return media\n",
    "\n",
    "lista=[5,5,5,5,5,5]\n",
    "\n",
    "media(lista)"
   ]
  },
  {
   "cell_type": "markdown",
   "metadata": {},
   "source": [
    "Desviación estándar\n",
    "--"
   ]
  },
  {
   "cell_type": "code",
   "execution_count": 6,
   "metadata": {},
   "outputs": [
    {
     "name": "stdout",
     "output_type": "stream",
     "text": [
      "0.5773502691896257\n",
      "3.5\n"
     ]
    }
   ],
   "source": [
    "def desviacion (lista):\n",
    "    x=0\n",
    "    m=media(lista)\n",
    "    for i in lista:\n",
    "        x=x+(i-m)**2\n",
    "    desv=x/(len(lista)-1)\n",
    "    desv=desv**(1/2)\n",
    "    return desv\n",
    "    \n",
    "l=[3,4,3,4]\n",
    "\n",
    "print (desviacion(l))\n",
    "print (media(l))"
   ]
  },
  {
   "cell_type": "markdown",
   "metadata": {},
   "source": [
    "Diseñar una función que calcule media de cualquier cantidad de valores\n",
    "--\n"
   ]
  },
  {
   "cell_type": "markdown",
   "metadata": {},
   "source": [
    "Diseña una función que reciba dos parámetros, uno de una lista de enteros y otro un valor que se le pida al usuario y este se buscará en la lista\n",
    "--"
   ]
  }
 ],
 "metadata": {
  "kernelspec": {
   "display_name": "Python 3",
   "language": "python",
   "name": "python3"
  },
  "language_info": {
   "codemirror_mode": {
    "name": "ipython",
    "version": 3
   },
   "file_extension": ".py",
   "mimetype": "text/x-python",
   "name": "python",
   "nbconvert_exporter": "python",
   "pygments_lexer": "ipython3",
   "version": "3.7.1"
  }
 },
 "nbformat": 4,
 "nbformat_minor": 2
}
