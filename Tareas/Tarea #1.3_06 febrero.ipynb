{
 "cells": [
  {
   "cell_type": "markdown",
   "metadata": {},
   "source": [
    "Robótica Industrial\n",
    "--\n",
    "\n",
    "Alejandro Rojas Barba \n",
    "\n",
    "Fecha de entrega: 11 de febrero del 2019\n",
    "\n",
    "Tarea #3\n"
   ]
  },
  {
   "cell_type": "markdown",
   "metadata": {},
   "source": [
    "Ejercicio 1\n",
    "--\n",
    "La señora Mercedes fue al mercado y le ofrecieron las siguientes promociones: un paquete de 3 jabones, 2 cremas dentales y 4 cepillos de dientes, por 206; un segundo paquete de 5 jabones, 3 cremas dentales y 2 cepillos por 210; un tercer paquete contenía 6 unidades de cada uno de los anteriores artículos, por 412. ¿Cuál es el costo de cada artículo?\n"
   ]
  },
  {
   "cell_type": "code",
   "execution_count": 1,
   "metadata": {},
   "outputs": [],
   "source": [
    "import numpy as np"
   ]
  },
  {
   "cell_type": "code",
   "execution_count": 29,
   "metadata": {},
   "outputs": [
    {
     "name": "stdout",
     "output_type": "stream",
     "text": [
      "Jabones: 15.333333333333357\n",
      "Cepillos dentales: 26.666666666666657\n",
      "Sal: 26.66666666666667\n"
     ]
    }
   ],
   "source": [
    "A=np.array([ [3,2,4],\n",
    "             [5,3,2],\n",
    "             [6,6,6] ])\n",
    "\n",
    "B=np.array([ [206],\n",
    "             [210],\n",
    "             [412] ])\n",
    "\n",
    "C=np.linalg.inv(A)@B\n",
    "\n",
    "print(\"Jabones:\",float(C[0]))\n",
    "print(\"Cepillos dentales:\",float(C[1]))\n",
    "print(\"Sal:\",float(C[2]))"
   ]
  },
  {
   "cell_type": "markdown",
   "metadata": {},
   "source": [
    "Ejercicio 2\n",
    "--\n",
    "La señora Juana compra 3kg de frijol, 2 kg de sal y 1 kg de arroz por 130. La señora Petra compra 2 kg de frijol, 1 kg de sal y 1 kg de arroz pagando un total de 90. Otra señora compra compra 1 kg de frijol, 1 kg de sal, 1 kg de arroz pagando un total de 60. Si las tres señoras compraron en la misma tienda, ¿Cuál es el precio por kg de cada producto?\n"
   ]
  },
  {
   "cell_type": "code",
   "execution_count": 31,
   "metadata": {},
   "outputs": [
    {
     "name": "stdout",
     "output_type": "stream",
     "text": [
      "Frijol: 30\n",
      "Sal: 10\n",
      "Arroz: 20\n"
     ]
    }
   ],
   "source": [
    "A=np.array([ [3,2,1],\n",
    "             [2,1,1],\n",
    "             [1,1,1] ])\n",
    "\n",
    "B=np.array([ [130],\n",
    "             [90],\n",
    "             [60] ])\n",
    "\n",
    "C=np.linalg.inv(A)@B\n",
    "\n",
    "print(\"Frijol:\",int(C[0]))\n",
    "print(\"Sal:\",int(C[1]))\n",
    "print(\"Arroz:\",int(C[2]))"
   ]
  }
 ],
 "metadata": {
  "kernelspec": {
   "display_name": "Python 3",
   "language": "python",
   "name": "python3"
  },
  "language_info": {
   "codemirror_mode": {
    "name": "ipython",
    "version": 3
   },
   "file_extension": ".py",
   "mimetype": "text/x-python",
   "name": "python",
   "nbconvert_exporter": "python",
   "pygments_lexer": "ipython3",
   "version": "3.7.1"
  }
 },
 "nbformat": 4,
 "nbformat_minor": 2
}
