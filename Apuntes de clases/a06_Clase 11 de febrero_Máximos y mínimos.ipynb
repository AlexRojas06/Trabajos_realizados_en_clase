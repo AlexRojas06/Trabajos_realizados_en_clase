{
 "cells": [
  {
   "cell_type": "code",
   "execution_count": 5,
   "metadata": {},
   "outputs": [],
   "source": [
    "%matplotlib notebook\n",
    "import matplotlib.pyplot as plt\n",
    "from sympy import *\n",
    "init_printing()"
   ]
  },
  {
   "cell_type": "code",
   "execution_count": 6,
   "metadata": {},
   "outputs": [
    {
     "data": {
      "image/png": "[encoded data removed]",
      "text/latex": [
       "$$\\left ( x, \\quad y\\right )$$"
      ],
      "text/plain": [
       "(x, y)"
      ]
     },
     "execution_count": 6,
     "metadata": {},
     "output_type": "execute_result"
    }
   ],
   "source": [
    "x,y=var(\"x y\")\n",
    "x,y"
   ]
  },
  {
   "cell_type": "code",
   "execution_count": 7,
   "metadata": {},
   "outputs": [],
   "source": [
    "f=x**3-3*x**2-24*x+32"
   ]
  },
  {
   "cell_type": "code",
   "execution_count": 8,
   "metadata": {},
   "outputs": [
    {
     "data": {
      "image/png": "[encoded data removed]",
      "text/latex": [
       "$$x^{3} - 3 x^{2} - 24 x + 32$$"
      ],
      "text/plain": [
       " 3      2            \n",
       "x  - 3⋅x  - 24⋅x + 32"
      ]
     },
     "execution_count": 8,
     "metadata": {},
     "output_type": "execute_result"
    }
   ],
   "source": [
    "f"
   ]
  },
  {
   "cell_type": "code",
   "execution_count": 9,
   "metadata": {},
   "outputs": [
    {
     "data": {
      "image/png": "[encoded data removed]",
      "text/latex": [
       "$$3 x^{2} - 6 x - 24$$"
      ],
      "text/plain": [
       "   2           \n",
       "3⋅x  - 6⋅x - 24"
      ]
     },
     "execution_count": 9,
     "metadata": {},
     "output_type": "execute_result"
    }
   ],
   "source": [
    "df=f.diff()\n",
    "df"
   ]
  },
  {
   "cell_type": "code",
   "execution_count": 10,
   "metadata": {},
   "outputs": [
    {
     "data": {
      "image/png": "[encoded data removed]",
      "text/latex": [
       "$$6 x - 6$$"
      ],
      "text/plain": [
       "6⋅x - 6"
      ]
     },
     "execution_count": 10,
     "metadata": {},
     "output_type": "execute_result"
    }
   ],
   "source": [
    "df.diff()"
   ]
  },
  {
   "cell_type": "code",
   "execution_count": 11,
   "metadata": {},
   "outputs": [
    {
     "data": {
      "image/png": "[encoded data removed]",
      "text/latex": [
       "$$6 \\left(x - 1\\right)$$"
      ],
      "text/plain": [
       "6⋅(x - 1)"
      ]
     },
     "execution_count": 11,
     "metadata": {},
     "output_type": "execute_result"
    }
   ],
   "source": [
    "f.diff(x,2)"
   ]
  },
  {
   "cell_type": "code",
   "execution_count": 12,
   "metadata": {},
   "outputs": [
    {
     "data": {
      "image/png": "[encoded data removed]",
      "text/latex": [
       "$$\\frac{x^{3}}{3}$$"
      ],
      "text/plain": [
       " 3\n",
       "x \n",
       "──\n",
       "3 "
      ]
     },
     "execution_count": 12,
     "metadata": {},
     "output_type": "execute_result"
    }
   ],
   "source": [
    "(x**2).integrate()"
   ]
  },
  {
   "cell_type": "code",
   "execution_count": 13,
   "metadata": {},
   "outputs": [
    {
     "data": {
      "image/png": "[encoded data removed]",
      "text/latex": [
       "$$\\left ( 3 x^{2} - 6 x - 24, \\quad 6 x - 6\\right )$$"
      ],
      "text/plain": [
       "⎛   2                    ⎞\n",
       "⎝3⋅x  - 6⋅x - 24, 6⋅x - 6⎠"
      ]
     },
     "execution_count": 13,
     "metadata": {},
     "output_type": "execute_result"
    }
   ],
   "source": [
    "f=x**3-3*x**2-24*x+32\n",
    "df=f.diff()\n",
    "ddf=df.diff()\n",
    "df,ddf"
   ]
  },
  {
   "cell_type": "code",
   "execution_count": 14,
   "metadata": {},
   "outputs": [
    {
     "data": {
      "image/png": "[encoded data removed]",
      "text/latex": [
       "$$\\left [ -2, \\quad 4\\right ]$$"
      ],
      "text/plain": [
       "[-2, 4]"
      ]
     },
     "execution_count": 14,
     "metadata": {},
     "output_type": "execute_result"
    }
   ],
   "source": [
    "pc=solve(df)\n",
    "pc"
   ]
  },
  {
   "cell_type": "code",
   "execution_count": 15,
   "metadata": {},
   "outputs": [
    {
     "data": {
      "application/javascript": [
       "/* Put everything inside the global mpl namespace */\n",
       "window.mpl = {};\n",
       "\n",
       "\n",
       "mpl.get_websocket_type = function() {\n",
       "    if (typeof(WebSocket) !== 'undefined') {\n",
       "        return WebSocket;\n",
       "    } else if (typeof(MozWebSocket) !== 'undefined') {\n",
       "        return MozWebSocket;\n",
       "    } else {\n",
       "        alert('Your browser does not have WebSocket support.' +\n",
       "              'Please try Chrome, Safari or Firefox ≥ 6. ' +\n",
       "              'Firefox 4 and 5 are also supported but you ' +\n",
       "              'have to enable WebSockets in about:config.');\n",
       "    };\n",
       "}\n",
       "\n",
       "mpl.figure = function(figure_id, websocket, ondownload, parent_element) {\n",
       "    this.id = figure_id;\n",
       "\n",
       "    this.ws = websocket;\n",
       "\n",
       "    this.supports_binary = (this.ws.binaryType != undefined);\n",
       "\n",
       "    if (!this.supports_binary) {\n",
       "        var warnings = document.getElementById(\"mpl-warnings\");\n",
       "        if (warnings) {\n",
       "            warnings.style.display = 'block';\n",
       "            warnings.textContent = (\n",
       "                \"This browser does not support binary websocket messages. \" +\n",
       "                    \"Performance may be slow.\");\n",
       "        }\n",
       "    }\n",
       "\n",
       "    this.imageObj = new Image();\n",
       "\n",
       "    this.context = undefined;\n",
       "    this.message = undefined;\n",
       "    this.canvas = undefined;\n",
       "    this.rubberband_canvas = undefined;\n",
       "    this.rubberband_context = undefined;\n",
       "    this.format_dropdown = undefined;\n",
       "\n",
       "    this.image_mode = 'full';\n",
       "\n",
       "    this.root = $('<div/>');\n",
       "    this._root_extra_style(this.root)\n",
       "    this.root.attr('style', 'display: inline-block');\n",
       "\n",
       "    $(parent_element).append(this.root);\n",
       "\n",
       "    this._init_header(this);\n",
       "    this._init_canvas(this);\n",
       "    this._init_toolbar(this);\n",
       "\n",
       "    var fig = this;\n",
       "\n",
       "    this.waiting = false;\n",
       "\n",
       "    this.ws.onopen =  function () {\n",
       "            fig.send_message(\"supports_binary\", {value: fig.supports_binary});\n",
       "            fig.send_message(\"send_image_mode\", {});\n",
       "            if (mpl.ratio != 1) {\n",
       "                fig.send_message(\"set_dpi_ratio\", {'dpi_ratio': mpl.ratio});\n",
       "            }\n",
       "            fig.send_message(\"refresh\", {});\n",
       "        }\n",
       "\n",
       "    this.imageObj.onload = function() {\n",
       "            if (fig.image_mode == 'full') {\n",
       "                // Full images could contain transparency (where diff images\n",
       "                // almost always do), so we need to clear the canvas so that\n",
       "                // there is no ghosting.\n",
       "                fig.context.clearRect(0, 0, fig.canvas.width, fig.canvas.height);\n",
       "            }\n",
       "            fig.context.drawImage(fig.imageObj, 0, 0);\n",
       "        };\n",
       "\n",
       "    this.imageObj.onunload = function() {\n",
       "        fig.ws.close();\n",
       "    }\n",
       "\n",
       "    this.ws.onmessage = this._make_on_message_function(this);\n",
       "\n",
       "    this.ondownload = ondownload;\n",
       "}\n",
       "\n",
       "mpl.figure.prototype._init_header = function() {\n",
       "    var titlebar = $(\n",
       "        '<div class=\"ui-dialog-titlebar ui-widget-header ui-corner-all ' +\n",
       "        'ui-helper-clearfix\"/>');\n",
       "    var titletext = $(\n",
       "        '<div class=\"ui-dialog-title\" style=\"width: 100%; ' +\n",
       "        'text-align: center; padding: 3px;\"/>');\n",
       "    titlebar.append(titletext)\n",
       "    this.root.append(titlebar);\n",
       "    this.header = titletext[0];\n",
       "}\n",
       "\n",
       "\n",
       "\n",
       "mpl.figure.prototype._canvas_extra_style = function(canvas_div) {\n",
       "\n",
       "}\n",
       "\n",
       "\n",
       "mpl.figure.prototype._root_extra_style = function(canvas_div) {\n",
       "\n",
       "}\n",
       "\n",
       "mpl.figure.prototype._init_canvas = function() {\n",
       "    var fig = this;\n",
       "\n",
       "    var canvas_div = $('<div/>');\n",
       "\n",
       "    canvas_div.attr('style', 'position: relative; clear: both; outline: 0');\n",
       "\n",
       "    function canvas_keyboard_event(event) {\n",
       "        return fig.key_event(event, event['data']);\n",
       "    }\n",
       "\n",
       "    canvas_div.keydown('key_press', canvas_keyboard_event);\n",
       "    canvas_div.keyup('key_release', canvas_keyboard_event);\n",
       "    this.canvas_div = canvas_div\n",
       "    this._canvas_extra_style(canvas_div)\n",
       "    this.root.append(canvas_div);\n",
       "\n",
       "    var canvas = $('<canvas/>');\n",
       "    canvas.addClass('mpl-canvas');\n",
       "    canvas.attr('style', \"left: 0; top: 0; z-index: 0; outline: 0\")\n",
       "\n",
       "    this.canvas = canvas[0];\n",
       "    this.context = canvas[0].getContext(\"2d\");\n",
       "\n",
       "    var backingStore = this.context.backingStorePixelRatio ||\n",
       "\tthis.context.webkitBackingStorePixelRatio ||\n",
       "\tthis.context.mozBackingStorePixelRatio ||\n",
       "\tthis.context.msBackingStorePixelRatio ||\n",
       "\tthis.context.oBackingStorePixelRatio ||\n",
       "\tthis.context.backingStorePixelRatio || 1;\n",
       "\n",
       "    mpl.ratio = (window.devicePixelRatio || 1) / backingStore;\n",
       "\n",
       "    var rubberband = $('<canvas/>');\n",
       "    rubberband.attr('style', \"position: absolute; left: 0; top: 0; z-index: 1;\")\n",
       "\n",
       "    var pass_mouse_events = true;\n",
       "\n",
       "    canvas_div.resizable({\n",
       "        start: function(event, ui) {\n",
       "            pass_mouse_events = false;\n",
       "        },\n",
       "        resize: function(event, ui) {\n",
       "            fig.request_resize(ui.size.width, ui.size.height);\n",
       "        },\n",
       "        stop: function(event, ui) {\n",
       "            pass_mouse_events = true;\n",
       "            fig.request_resize(ui.size.width, ui.size.height);\n",
       "        },\n",
       "    });\n",
       "\n",
       "    function mouse_event_fn(event) {\n",
       "        if (pass_mouse_events)\n",
       "            return fig.mouse_event(event, event['data']);\n",
       "    }\n",
       "\n",
       "    rubberband.mousedown('button_press', mouse_event_fn);\n",
       "    rubberband.mouseup('button_release', mouse_event_fn);\n",
       "    // Throttle sequential mouse events to 1 every 20ms.\n",
       "    rubberband.mousemove('motion_notify', mouse_event_fn);\n",
       "\n",
       "    rubberband.mouseenter('figure_enter', mouse_event_fn);\n",
       "    rubberband.mouseleave('figure_leave', mouse_event_fn);\n",
       "\n",
       "    canvas_div.on(\"wheel\", function (event) {\n",
       "        event = event.originalEvent;\n",
       "        event['data'] = 'scroll'\n",
       "        if (event.deltaY < 0) {\n",
       "            event.step = 1;\n",
       "        } else {\n",
       "            event.step = -1;\n",
       "        }\n",
       "        mouse_event_fn(event);\n",
       "    });\n",
       "\n",
       "    canvas_div.append(canvas);\n",
       "    canvas_div.append(rubberband);\n",
       "\n",
       "    this.rubberband = rubberband;\n",
       "    this.rubberband_canvas = rubberband[0];\n",
       "    this.rubberband_context = rubberband[0].getContext(\"2d\");\n",
       "    this.rubberband_context.strokeStyle = \"#000000\";\n",
       "\n",
       "    this._resize_canvas = function(width, height) {\n",
       "        // Keep the size of the canvas, canvas container, and rubber band\n",
       "        // canvas in synch.\n",
       "        canvas_div.css('width', width)\n",
       "        canvas_div.css('height', height)\n",
       "\n",
       "        canvas.attr('width', width * mpl.ratio);\n",
       "        canvas.attr('height', height * mpl.ratio);\n",
       "        canvas.attr('style', 'width: ' + width + 'px; height: ' + height + 'px;');\n",
       "\n",
       "        rubberband.attr('width', width);\n",
       "        rubberband.attr('height', height);\n",
       "    }\n",
       "\n",
       "    // Set the figure to an initial 600x600px, this will subsequently be updated\n",
       "    // upon first draw.\n",
       "    this._resize_canvas(600, 600);\n",
       "\n",
       "    // Disable right mouse context menu.\n",
       "    $(this.rubberband_canvas).bind(\"contextmenu\",function(e){\n",
       "        return false;\n",
       "    });\n",
       "\n",
       "    function set_focus () {\n",
       "        canvas.focus();\n",
       "        canvas_div.focus();\n",
       "    }\n",
       "\n",
       "    window.setTimeout(set_focus, 100);\n",
       "}\n",
       "\n",
       "mpl.figure.prototype._init_toolbar = function() {\n",
       "    var fig = this;\n",
       "\n",
       "    var nav_element = $('<div/>')\n",
       "    nav_element.attr('style', 'width: 100%');\n",
       "    this.root.append(nav_element);\n",
       "\n",
       "    // Define a callback function for later on.\n",
       "    function toolbar_event(event) {\n",
       "        return fig.toolbar_button_onclick(event['data']);\n",
       "    }\n",
       "    function toolbar_mouse_event(event) {\n",
       "        return fig.toolbar_button_onmouseover(event['data']);\n",
       "    }\n",
       "\n",
       "    for(var toolbar_ind in mpl.toolbar_items) {\n",
       "        var name = mpl.toolbar_items[toolbar_ind][0];\n",
       "        var tooltip = mpl.toolbar_items[toolbar_ind][1];\n",
       "        var image = mpl.toolbar_items[toolbar_ind][2];\n",
       "        var method_name = mpl.toolbar_items[toolbar_ind][3];\n",
       "\n",
       "        if (!name) {\n",
       "            // put a spacer in here.\n",
       "            continue;\n",
       "        }\n",
       "        var button = $('<button/>');\n",
       "        button.addClass('ui-button ui-widget ui-state-default ui-corner-all ' +\n",
       "                        'ui-button-icon-only');\n",
       "        button.attr('role', 'button');\n",
       "        button.attr('aria-disabled', 'false');\n",
       "        button.click(method_name, toolbar_event);\n",
       "        button.mouseover(tooltip, toolbar_mouse_event);\n",
       "\n",
       "        var icon_img = $('<span/>');\n",
       "        icon_img.addClass('ui-button-icon-primary ui-icon');\n",
       "        icon_img.addClass(image);\n",
       "        icon_img.addClass('ui-corner-all');\n",
       "\n",
       "        var tooltip_span = $('<span/>');\n",
       "        tooltip_span.addClass('ui-button-text');\n",
       "        tooltip_span.html(tooltip);\n",
       "\n",
       "        button.append(icon_img);\n",
       "        button.append(tooltip_span);\n",
       "\n",
       "        nav_element.append(button);\n",
       "    }\n",
       "\n",
       "    var fmt_picker_span = $('<span/>');\n",
       "\n",
       "    var fmt_picker = $('<select/>');\n",
       "    fmt_picker.addClass('mpl-toolbar-option ui-widget ui-widget-content');\n",
       "    fmt_picker_span.append(fmt_picker);\n",
       "    nav_element.append(fmt_picker_span);\n",
       "    this.format_dropdown = fmt_picker[0];\n",
       "\n",
       "    for (var ind in mpl.extensions) {\n",
       "        var fmt = mpl.extensions[ind];\n",
       "        var option = $(\n",
       "            '<option/>', {selected: fmt === mpl.default_extension}).html(fmt);\n",
       "        fmt_picker.append(option)\n",
       "    }\n",
       "\n",
       "    // Add hover states to the ui-buttons\n",
       "    $( \".ui-button\" ).hover(\n",
       "        function() { $(this).addClass(\"ui-state-hover\");},\n",
       "        function() { $(this).removeClass(\"ui-state-hover\");}\n",
       "    );\n",
       "\n",
       "    var status_bar = $('<span class=\"mpl-message\"/>');\n",
       "    nav_element.append(status_bar);\n",
       "    this.message = status_bar[0];\n",
       "}\n",
       "\n",
       "mpl.figure.prototype.request_resize = function(x_pixels, y_pixels) {\n",
       "    // Request matplotlib to resize the figure. Matplotlib will then trigger a resize in the client,\n",
       "    // which will in turn request a refresh of the image.\n",
       "    this.send_message('resize', {'width': x_pixels, 'height': y_pixels});\n",
       "}\n",
       "\n",
       "mpl.figure.prototype.send_message = function(type, properties) {\n",
       "    properties['type'] = type;\n",
       "    properties['figure_id'] = this.id;\n",
       "    this.ws.send(JSON.stringify(properties));\n",
       "}\n",
       "\n",
       "mpl.figure.prototype.send_draw_message = function() {\n",
       "    if (!this.waiting) {\n",
       "        this.waiting = true;\n",
       "        this.ws.send(JSON.stringify({type: \"draw\", figure_id: this.id}));\n",
       "    }\n",
       "}\n",
       "\n",
       "\n",
       "mpl.figure.prototype.handle_save = function(fig, msg) {\n",
       "    var format_dropdown = fig.format_dropdown;\n",
       "    var format = format_dropdown.options[format_dropdown.selectedIndex].value;\n",
       "    fig.ondownload(fig, format);\n",
       "}\n",
       "\n",
       "\n",
       "mpl.figure.prototype.handle_resize = function(fig, msg) {\n",
       "    var size = msg['size'];\n",
       "    if (size[0] != fig.canvas.width || size[1] != fig.canvas.height) {\n",
       "        fig._resize_canvas(size[0], size[1]);\n",
       "        fig.send_message(\"refresh\", {});\n",
       "    };\n",
       "}\n",
       "\n",
       "mpl.figure.prototype.handle_rubberband = function(fig, msg) {\n",
       "    var x0 = msg['x0'] / mpl.ratio;\n",
       "    var y0 = (fig.canvas.height - msg['y0']) / mpl.ratio;\n",
       "    var x1 = msg['x1'] / mpl.ratio;\n",
       "    var y1 = (fig.canvas.height - msg['y1']) / mpl.ratio;\n",
       "    x0 = Math.floor(x0) + 0.5;\n",
       "    y0 = Math.floor(y0) + 0.5;\n",
       "    x1 = Math.floor(x1) + 0.5;\n",
       "    y1 = Math.floor(y1) + 0.5;\n",
       "    var min_x = Math.min(x0, x1);\n",
       "    var min_y = Math.min(y0, y1);\n",
       "    var width = Math.abs(x1 - x0);\n",
       "    var height = Math.abs(y1 - y0);\n",
       "\n",
       "    fig.rubberband_context.clearRect(\n",
       "        0, 0, fig.canvas.width, fig.canvas.height);\n",
       "\n",
       "    fig.rubberband_context.strokeRect(min_x, min_y, width, height);\n",
       "}\n",
       "\n",
       "mpl.figure.prototype.handle_figure_label = function(fig, msg) {\n",
       "    // Updates the figure title.\n",
       "    fig.header.textContent = msg['label'];\n",
       "}\n",
       "\n",
       "mpl.figure.prototype.handle_cursor = function(fig, msg) {\n",
       "    var cursor = msg['cursor'];\n",
       "    switch(cursor)\n",
       "    {\n",
       "    case 0:\n",
       "        cursor = 'pointer';\n",
       "        break;\n",
       "    case 1:\n",
       "        cursor = 'default';\n",
       "        break;\n",
       "    case 2:\n",
       "        cursor = 'crosshair';\n",
       "        break;\n",
       "    case 3:\n",
       "        cursor = 'move';\n",
       "        break;\n",
       "    }\n",
       "    fig.rubberband_canvas.style.cursor = cursor;\n",
       "}\n",
       "\n",
       "mpl.figure.prototype.handle_message = function(fig, msg) {\n",
       "    fig.message.textContent = msg['message'];\n",
       "}\n",
       "\n",
       "mpl.figure.prototype.handle_draw = function(fig, msg) {\n",
       "    // Request the server to send over a new figure.\n",
       "    fig.send_draw_message();\n",
       "}\n",
       "\n",
       "mpl.figure.prototype.handle_image_mode = function(fig, msg) {\n",
       "    fig.image_mode = msg['mode'];\n",
       "}\n",
       "\n",
       "mpl.figure.prototype.updated_canvas_event = function() {\n",
       "    // Called whenever the canvas gets updated.\n",
       "    this.send_message(\"ack\", {});\n",
       "}\n",
       "\n",
       "// A function to construct a web socket function for onmessage handling.\n",
       "// Called in the figure constructor.\n",
       "mpl.figure.prototype._make_on_message_function = function(fig) {\n",
       "    return function socket_on_message(evt) {\n",
       "        if (evt.data instanceof Blob) {\n",
       "            /* FIXME: We get \"Resource interpreted as Image but\n",
       "             * transferred with MIME type text/plain:\" errors on\n",
       "             * Chrome.  But how to set the MIME type?  It doesn't seem\n",
       "             * to be part of the websocket stream */\n",
       "            evt.data.type = \"image/png\";\n",
       "\n",
       "            /* Free the memory for the previous frames */\n",
       "            if (fig.imageObj.src) {\n",
       "                (window.URL || window.webkitURL).revokeObjectURL(\n",
       "                    fig.imageObj.src);\n",
       "            }\n",
       "\n",
       "            fig.imageObj.src = (window.URL || window.webkitURL).createObjectURL(\n",
       "                evt.data);\n",
       "            fig.updated_canvas_event();\n",
       "            fig.waiting = false;\n",
       "            return;\n",
       "        }\n",
       "        else if (typeof evt.data === 'string' && evt.data.slice(0, 21) == \"data:image/png;base64\") {\n",
       "            fig.imageObj.src = evt.data;\n",
       "            fig.updated_canvas_event();\n",
       "            fig.waiting = false;\n",
       "            return;\n",
       "        }\n",
       "\n",
       "        var msg = JSON.parse(evt.data);\n",
       "        var msg_type = msg['type'];\n",
       "\n",
       "        // Call the  \"handle_{type}\" callback, which takes\n",
       "        // the figure and JSON message as its only arguments.\n",
       "        try {\n",
       "            var callback = fig[\"handle_\" + msg_type];\n",
       "        } catch (e) {\n",
       "            console.log(\"No handler for the '\" + msg_type + \"' message type: \", msg);\n",
       "            return;\n",
       "        }\n",
       "\n",
       "        if (callback) {\n",
       "            try {\n",
       "                // console.log(\"Handling '\" + msg_type + \"' message: \", msg);\n",
       "                callback(fig, msg);\n",
       "            } catch (e) {\n",
       "                console.log(\"Exception inside the 'handler_\" + msg_type + \"' callback:\", e, e.stack, msg);\n",
       "            }\n",
       "        }\n",
       "    };\n",
       "}\n",
       "\n",
       "// from http://stackoverflow.com/questions/1114465/getting-mouse-location-in-canvas\n",
       "mpl.findpos = function(e) {\n",
       "    //this section is from http://www.quirksmode.org/js/events_properties.html\n",
       "    var targ;\n",
       "    if (!e)\n",
       "        e = window.event;\n",
       "    if (e.target)\n",
       "        targ = e.target;\n",
       "    else if (e.srcElement)\n",
       "        targ = e.srcElement;\n",
       "    if (targ.nodeType == 3) // defeat Safari bug\n",
       "        targ = targ.parentNode;\n",
       "\n",
       "    // jQuery normalizes the pageX and pageY\n",
       "    // pageX,Y are the mouse positions relative to the document\n",
       "    // offset() returns the position of the element relative to the document\n",
       "    var x = e.pageX - $(targ).offset().left;\n",
       "    var y = e.pageY - $(targ).offset().top;\n",
       "\n",
       "    return {\"x\": x, \"y\": y};\n",
       "};\n",
       "\n",
       "/*\n",
       " * return a copy of an object with only non-object keys\n",
       " * we need this to avoid circular references\n",
       " * http://stackoverflow.com/a/24161582/3208463\n",
       " */\n",
       "function simpleKeys (original) {\n",
       "  return Object.keys(original).reduce(function (obj, key) {\n",
       "    if (typeof original[key] !== 'object')\n",
       "        obj[key] = original[key]\n",
       "    return obj;\n",
       "  }, {});\n",
       "}\n",
       "\n",
       "mpl.figure.prototype.mouse_event = function(event, name) {\n",
       "    var canvas_pos = mpl.findpos(event)\n",
       "\n",
       "    if (name === 'button_press')\n",
       "    {\n",
       "        this.canvas.focus();\n",
       "        this.canvas_div.focus();\n",
       "    }\n",
       "\n",
       "    var x = canvas_pos.x * mpl.ratio;\n",
       "    var y = canvas_pos.y * mpl.ratio;\n",
       "\n",
       "    this.send_message(name, {x: x, y: y, button: event.button,\n",
       "                             step: event.step,\n",
       "                             guiEvent: simpleKeys(event)});\n",
       "\n",
       "    /* This prevents the web browser from automatically changing to\n",
       "     * the text insertion cursor when the button is pressed.  We want\n",
       "     * to control all of the cursor setting manually through the\n",
       "     * 'cursor' event from matplotlib */\n",
       "    event.preventDefault();\n",
       "    return false;\n",
       "}\n",
       "\n",
       "mpl.figure.prototype._key_event_extra = function(event, name) {\n",
       "    // Handle any extra behaviour associated with a key event\n",
       "}\n",
       "\n",
       "mpl.figure.prototype.key_event = function(event, name) {\n",
       "\n",
       "    // Prevent repeat events\n",
       "    if (name == 'key_press')\n",
       "    {\n",
       "        if (event.which === this._key)\n",
       "            return;\n",
       "        else\n",
       "            this._key = event.which;\n",
       "    }\n",
       "    if (name == 'key_release')\n",
       "        this._key = null;\n",
       "\n",
       "    var value = '';\n",
       "    if (event.ctrlKey && event.which != 17)\n",
       "        value += \"ctrl+\";\n",
       "    if (event.altKey && event.which != 18)\n",
       "        value += \"alt+\";\n",
       "    if (event.shiftKey && event.which != 16)\n",
       "        value += \"shift+\";\n",
       "\n",
       "    value += 'k';\n",
       "    value += event.which.toString();\n",
       "\n",
       "    this._key_event_extra(event, name);\n",
       "\n",
       "    this.send_message(name, {key: value,\n",
       "                             guiEvent: simpleKeys(event)});\n",
       "    return false;\n",
       "}\n",
       "\n",
       "mpl.figure.prototype.toolbar_button_onclick = function(name) {\n",
       "    if (name == 'download') {\n",
       "        this.handle_save(this, null);\n",
       "    } else {\n",
       "        this.send_message(\"toolbar_button\", {name: name});\n",
       "    }\n",
       "};\n",
       "\n",
       "mpl.figure.prototype.toolbar_button_onmouseover = function(tooltip) {\n",
       "    this.message.textContent = tooltip;\n",
       "};\n",
       "mpl.toolbar_items = [[\"Home\", \"Reset original view\", \"fa fa-home icon-home\", \"home\"], [\"Back\", \"Back to previous view\", \"fa fa-arrow-left icon-arrow-left\", \"back\"], [\"Forward\", \"Forward to next view\", \"fa fa-arrow-right icon-arrow-right\", \"forward\"], [\"\", \"\", \"\", \"\"], [\"Pan\", \"Pan axes with left mouse, zoom with right\", \"fa fa-arrows icon-move\", \"pan\"], [\"Zoom\", \"Zoom to rectangle\", \"fa fa-square-o icon-check-empty\", \"zoom\"], [\"\", \"\", \"\", \"\"], [\"Download\", \"Download plot\", \"fa fa-floppy-o icon-save\", \"download\"]];\n",
       "\n",
       "mpl.extensions = [\"eps\", \"jpeg\", \"pdf\", \"png\", \"ps\", \"raw\", \"svg\", \"tif\"];\n",
       "\n",
       "mpl.default_extension = \"png\";var comm_websocket_adapter = function(comm) {\n",
       "    // Create a \"websocket\"-like object which calls the given IPython comm\n",
       "    // object with the appropriate methods. Currently this is a non binary\n",
       "    // socket, so there is still some room for performance tuning.\n",
       "    var ws = {};\n",
       "\n",
       "    ws.close = function() {\n",
       "        comm.close()\n",
       "    };\n",
       "    ws.send = function(m) {\n",
       "        //console.log('sending', m);\n",
       "        comm.send(m);\n",
       "    };\n",
       "    // Register the callback with on_msg.\n",
       "    comm.on_msg(function(msg) {\n",
       "        //console.log('receiving', msg['content']['data'], msg);\n",
       "        // Pass the mpl event to the overridden (by mpl) onmessage function.\n",
       "        ws.onmessage(msg['content']['data'])\n",
       "    });\n",
       "    return ws;\n",
       "}\n",
       "\n",
       "mpl.mpl_figure_comm = function(comm, msg) {\n",
       "    // This is the function which gets called when the mpl process\n",
       "    // starts-up an IPython Comm through the \"matplotlib\" channel.\n",
       "\n",
       "    var id = msg.content.data.id;\n",
       "    // Get hold of the div created by the display call when the Comm\n",
       "    // socket was opened in Python.\n",
       "    var element = $(\"#\" + id);\n",
       "    var ws_proxy = comm_websocket_adapter(comm)\n",
       "\n",
       "    function ondownload(figure, format) {\n",
       "        window.open(figure.imageObj.src);\n",
       "    }\n",
       "\n",
       "    var fig = new mpl.figure(id, ws_proxy,\n",
       "                           ondownload,\n",
       "                           element.get(0));\n",
       "\n",
       "    // Call onopen now - mpl needs it, as it is assuming we've passed it a real\n",
       "    // web socket which is closed, not our websocket->open comm proxy.\n",
       "    ws_proxy.onopen();\n",
       "\n",
       "    fig.parent_element = element.get(0);\n",
       "    fig.cell_info = mpl.find_output_cell(\"<div id='\" + id + \"'></div>\");\n",
       "    if (!fig.cell_info) {\n",
       "        console.error(\"Failed to find cell for figure\", id, fig);\n",
       "        return;\n",
       "    }\n",
       "\n",
       "    var output_index = fig.cell_info[2]\n",
       "    var cell = fig.cell_info[0];\n",
       "\n",
       "};\n",
       "\n",
       "mpl.figure.prototype.handle_close = function(fig, msg) {\n",
       "    var width = fig.canvas.width/mpl.ratio\n",
       "    fig.root.unbind('remove')\n",
       "\n",
       "    // Update the output cell to use the data from the current canvas.\n",
       "    fig.push_to_output();\n",
       "    var dataURL = fig.canvas.toDataURL();\n",
       "    // Re-enable the keyboard manager in IPython - without this line, in FF,\n",
       "    // the notebook keyboard shortcuts fail.\n",
       "    IPython.keyboard_manager.enable()\n",
       "    $(fig.parent_element).html('<img src=\"' + dataURL + '\" width=\"' + width + '\">');\n",
       "    fig.close_ws(fig, msg);\n",
       "}\n",
       "\n",
       "mpl.figure.prototype.close_ws = function(fig, msg){\n",
       "    fig.send_message('closing', msg);\n",
       "    // fig.ws.close()\n",
       "}\n",
       "\n",
       "mpl.figure.prototype.push_to_output = function(remove_interactive) {\n",
       "    // Turn the data on the canvas into data in the output cell.\n",
       "    var width = this.canvas.width/mpl.ratio\n",
       "    var dataURL = this.canvas.toDataURL();\n",
       "    this.cell_info[1]['text/html'] = '<img src=\"' + dataURL + '\" width=\"' + width + '\">';\n",
       "}\n",
       "\n",
       "mpl.figure.prototype.updated_canvas_event = function() {\n",
       "    // Tell IPython that the notebook contents must change.\n",
       "    IPython.notebook.set_dirty(true);\n",
       "    this.send_message(\"ack\", {});\n",
       "    var fig = this;\n",
       "    // Wait a second, then push the new image to the DOM so\n",
       "    // that it is saved nicely (might be nice to debounce this).\n",
       "    setTimeout(function () { fig.push_to_output() }, 1000);\n",
       "}\n",
       "\n",
       "mpl.figure.prototype._init_toolbar = function() {\n",
       "    var fig = this;\n",
       "\n",
       "    var nav_element = $('<div/>')\n",
       "    nav_element.attr('style', 'width: 100%');\n",
       "    this.root.append(nav_element);\n",
       "\n",
       "    // Define a callback function for later on.\n",
       "    function toolbar_event(event) {\n",
       "        return fig.toolbar_button_onclick(event['data']);\n",
       "    }\n",
       "    function toolbar_mouse_event(event) {\n",
       "        return fig.toolbar_button_onmouseover(event['data']);\n",
       "    }\n",
       "\n",
       "    for(var toolbar_ind in mpl.toolbar_items){\n",
       "        var name = mpl.toolbar_items[toolbar_ind][0];\n",
       "        var tooltip = mpl.toolbar_items[toolbar_ind][1];\n",
       "        var image = mpl.toolbar_items[toolbar_ind][2];\n",
       "        var method_name = mpl.toolbar_items[toolbar_ind][3];\n",
       "\n",
       "        if (!name) { continue; };\n",
       "\n",
       "        var button = $('<button class=\"btn btn-default\" href=\"#\" title=\"' + name + '\"><i class=\"fa ' + image + ' fa-lg\"></i></button>');\n",
       "        button.click(method_name, toolbar_event);\n",
       "        button.mouseover(tooltip, toolbar_mouse_event);\n",
       "        nav_element.append(button);\n",
       "    }\n",
       "\n",
       "    // Add the status bar.\n",
       "    var status_bar = $('<span class=\"mpl-message\" style=\"text-align:right; float: right;\"/>');\n",
       "    nav_element.append(status_bar);\n",
       "    this.message = status_bar[0];\n",
       "\n",
       "    // Add the close button to the window.\n",
       "    var buttongrp = $('<div class=\"btn-group inline pull-right\"></div>');\n",
       "    var button = $('<button class=\"btn btn-mini btn-primary\" href=\"#\" title=\"Stop Interaction\"><i class=\"fa fa-power-off icon-remove icon-large\"></i></button>');\n",
       "    button.click(function (evt) { fig.handle_close(fig, {}); } );\n",
       "    button.mouseover('Stop Interaction', toolbar_mouse_event);\n",
       "    buttongrp.append(button);\n",
       "    var titlebar = this.root.find($('.ui-dialog-titlebar'));\n",
       "    titlebar.prepend(buttongrp);\n",
       "}\n",
       "\n",
       "mpl.figure.prototype._root_extra_style = function(el){\n",
       "    var fig = this\n",
       "    el.on(\"remove\", function(){\n",
       "\tfig.close_ws(fig, {});\n",
       "    });\n",
       "}\n",
       "\n",
       "mpl.figure.prototype._canvas_extra_style = function(el){\n",
       "    // this is important to make the div 'focusable\n",
       "    el.attr('tabindex', 0)\n",
       "    // reach out to IPython and tell the keyboard manager to turn it's self\n",
       "    // off when our div gets focus\n",
       "\n",
       "    // location in version 3\n",
       "    if (IPython.notebook.keyboard_manager) {\n",
       "        IPython.notebook.keyboard_manager.register_events(el);\n",
       "    }\n",
       "    else {\n",
       "        // location in version 2\n",
       "        IPython.keyboard_manager.register_events(el);\n",
       "    }\n",
       "\n",
       "}\n",
       "\n",
       "mpl.figure.prototype._key_event_extra = function(event, name) {\n",
       "    var manager = IPython.notebook.keyboard_manager;\n",
       "    if (!manager)\n",
       "        manager = IPython.keyboard_manager;\n",
       "\n",
       "    // Check for shift+enter\n",
       "    if (event.shiftKey && event.which == 13) {\n",
       "        this.canvas_div.blur();\n",
       "        event.shiftKey = false;\n",
       "        // Send a \"J\" for go to next cell\n",
       "        event.which = 74;\n",
       "        event.keyCode = 74;\n",
       "        manager.command_mode();\n",
       "        manager.handle_keydown(event);\n",
       "    }\n",
       "}\n",
       "\n",
       "mpl.figure.prototype.handle_save = function(fig, msg) {\n",
       "    fig.ondownload(fig, null);\n",
       "}\n",
       "\n",
       "\n",
       "mpl.find_output_cell = function(html_output) {\n",
       "    // Return the cell and output element which can be found *uniquely* in the notebook.\n",
       "    // Note - this is a bit hacky, but it is done because the \"notebook_saving.Notebook\"\n",
       "    // IPython event is triggered only after the cells have been serialised, which for\n",
       "    // our purposes (turning an active figure into a static one), is too late.\n",
       "    var cells = IPython.notebook.get_cells();\n",
       "    var ncells = cells.length;\n",
       "    for (var i=0; i<ncells; i++) {\n",
       "        var cell = cells[i];\n",
       "        if (cell.cell_type === 'code'){\n",
       "            for (var j=0; j<cell.output_area.outputs.length; j++) {\n",
       "                var data = cell.output_area.outputs[j];\n",
       "                if (data.data) {\n",
       "                    // IPython >= 3 moved mimebundle to data attribute of output\n",
       "                    data = data.data;\n",
       "                }\n",
       "                if (data['text/html'] == html_output) {\n",
       "                    return [cell, data, j];\n",
       "                }\n",
       "            }\n",
       "        }\n",
       "    }\n",
       "}\n",
       "\n",
       "// Register the function which deals with the matplotlib target/channel.\n",
       "// The kernel may be null if the page has been refreshed.\n",
       "if (IPython.notebook.kernel != null) {\n",
       "    IPython.notebook.kernel.comm_manager.register_target('matplotlib', mpl.mpl_figure_comm);\n",
       "}\n"
      ],
      "text/plain": [
       "<IPython.core.display.Javascript object>"
      ]
     },
     "metadata": {},
     "output_type": "display_data"
    },
    {
     "data": {
      "text/html": [
       "<img src=\"data:image/png;base64,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\" width=\"640\">"
      ],
      "text/plain": [
       "<IPython.core.display.HTML object>"
      ]
     },
     "metadata": {},
     "output_type": "display_data"
    },
    {
     "data": {
      "text/plain": [
       "<sympy.plotting.plot.Plot at 0x1faf95d9c18>"
      ]
     },
     "execution_count": 15,
     "metadata": {},
     "output_type": "execute_result"
    }
   ],
   "source": [
    "plot(f)"
   ]
  },
  {
   "cell_type": "code",
   "execution_count": 16,
   "metadata": {},
   "outputs": [
    {
     "data": {
      "image/png": "[encoded data removed]",
      "text/latex": [
       "$$\\left ( -18, \\quad 18\\right )$$"
      ],
      "text/plain": [
       "(-18, 18)"
      ]
     },
     "execution_count": 16,
     "metadata": {},
     "output_type": "execute_result"
    }
   ],
   "source": [
    "ddf.subs(x,pc[0]), ddf.subs(x,pc[1]) #Sustitute la variable x por el punto"
   ]
  },
  {
   "cell_type": "code",
   "execution_count": 17,
   "metadata": {},
   "outputs": [
    {
     "data": {
      "image/png": "[encoded data removed]",
      "text/latex": [
       "$$30$$"
      ],
      "text/plain": [
       "30"
      ]
     },
     "execution_count": 17,
     "metadata": {},
     "output_type": "execute_result"
    }
   ],
   "source": [
    "ddf.subs(x,6)"
   ]
  },
  {
   "cell_type": "markdown",
   "metadata": {},
   "source": [
    "Ejemplo\n",
    "--\n",
    "Un agricultor tiene 2400 metros de material y quiere construir una banda para cercar un campo rectangular que bordea un río recto, de modo que no necesita barda a lo largo del río.\n",
    "\n",
    "¿Cuáles son las dimenisones que debe tener el campo para encerrar el área más grande?"
   ]
  },
  {
   "cell_type": "code",
   "execution_count": 19,
   "metadata": {},
   "outputs": [
    {
     "data": {
      "image/png": "[encoded data removed]",
      "text/latex": [
       "$$\\left ( - 0.5 x + 1200, \\quad x y\\right )$$"
      ],
      "text/plain": [
       "(-0.5⋅x + 1200, x⋅y)"
      ]
     },
     "execution_count": 19,
     "metadata": {},
     "output_type": "execute_result"
    }
   ],
   "source": [
    "Eq_1=1200-(1/2)*x\n",
    "Eq_2=x*y\n",
    "\n",
    "Eq_1,Eq_2"
   ]
  },
  {
   "cell_type": "code",
   "execution_count": 25,
   "metadata": {},
   "outputs": [
    {
     "data": {
      "image/png": "[encoded data removed]",
      "text/latex": [
       "$$x \\left(- 0.5 x + 1200\\right)$$"
      ],
      "text/plain": [
       "x⋅(-0.5⋅x + 1200)"
      ]
     },
     "execution_count": 25,
     "metadata": {},
     "output_type": "execute_result"
    }
   ],
   "source": [
    "f_1=Eq_2.subs(y,Eq_1)\n",
    "f_1"
   ]
  },
  {
   "cell_type": "code",
   "execution_count": 26,
   "metadata": {},
   "outputs": [
    {
     "data": {
      "image/png": "[encoded data removed]",
      "text/latex": [
       "$$- 1.0 x + 1200$$"
      ],
      "text/plain": [
       "-1.0⋅x + 1200"
      ]
     },
     "execution_count": 26,
     "metadata": {},
     "output_type": "execute_result"
    }
   ],
   "source": [
    "df=f_1.diff()\n",
    "df"
   ]
  },
  {
   "cell_type": "code",
   "execution_count": 28,
   "metadata": {},
   "outputs": [
    {
     "data": {
      "image/png": "[encoded data removed]",
      "text/latex": [
       "$$\\left [ 1200.0\\right ]$$"
      ],
      "text/plain": [
       "[1200.0]"
      ]
     },
     "execution_count": 28,
     "metadata": {},
     "output_type": "execute_result"
    }
   ],
   "source": [
    "pc=solve(df)\n",
    "pc"
   ]
  },
  {
   "cell_type": "code",
   "execution_count": 32,
   "metadata": {},
   "outputs": [
    {
     "data": {
      "image/png": "[encoded data removed]",
      "text/latex": [
       "$$600.0$$"
      ],
      "text/plain": [
       "600.000000000000"
      ]
     },
     "execution_count": 32,
     "metadata": {},
     "output_type": "execute_result"
    }
   ],
   "source": [
    "Sol=Eq_1.subs(x,1200)\n",
    "Sol\n"
   ]
  },
  {
   "cell_type": "markdown",
   "metadata": {},
   "source": [
    "3.2 Ejemplo\n",
    "--\n",
    "\n",
    "Se va a fabricar una lata que ha de contener 1L de aceite. Encuentre las dimensiones que debe tener la lata de manera que minimicen el costo del metal para fabricarla\n"
   ]
  },
  {
   "cell_type": "code",
   "execution_count": 42,
   "metadata": {},
   "outputs": [
    {
     "data": {
      "image/png": "[encoded data removed]",
      "text/latex": [
       "$$\\left ( 2 \\pi h r + 2 \\pi r^{2}, \\quad h\\right )$$"
      ],
      "text/plain": [
       "⎛               2   ⎞\n",
       "⎝2⋅π⋅h⋅r + 2⋅π⋅r , h⎠"
      ]
     },
     "execution_count": 42,
     "metadata": {},
     "output_type": "execute_result"
    }
   ],
   "source": [
    "r,h=symbols(\"r,h\",real=True)\n",
    "A=2*pi*r**2+2*pi*r*h\n",
    "eq1=Eq(pi*r**2*h,100)\n",
    "A,h"
   ]
  },
  {
   "cell_type": "code",
   "execution_count": 43,
   "metadata": {},
   "outputs": [
    {
     "data": {
      "image/png": "[encoded data removed]",
      "text/latex": [
       "$$\\left [ \\frac{100}{\\pi r^{2}}\\right ]$$"
      ],
      "text/plain": [
       "⎡100 ⎤\n",
       "⎢────⎥\n",
       "⎢   2⎥\n",
       "⎣π⋅r ⎦"
      ]
     },
     "execution_count": 43,
     "metadata": {},
     "output_type": "execute_result"
    }
   ],
   "source": [
    "y_=solve(eq1,h)\n",
    "y_"
   ]
  },
  {
   "cell_type": "code",
   "execution_count": 45,
   "metadata": {},
   "outputs": [
    {
     "data": {
      "image/png": "[encoded data removed]",
      "text/latex": [
       "$$2 \\pi r^{2} + \\frac{200}{r}$$"
      ],
      "text/plain": [
       "     2   200\n",
       "2⋅π⋅r  + ───\n",
       "          r "
      ]
     },
     "execution_count": 45,
     "metadata": {},
     "output_type": "execute_result"
    }
   ],
   "source": [
    "f=A.subs(h,y_[0])\n",
    "f"
   ]
  },
  {
   "cell_type": "markdown",
   "metadata": {},
   "source": [
    "Ejemplo: Encuentre y determine los extremos relativos de la función\n",
    "--\n"
   ]
  },
  {
   "cell_type": "code",
   "execution_count": 46,
   "metadata": {},
   "outputs": [
    {
     "data": {
      "image/png": "[encoded data removed]",
      "text/latex": [
       "$$\\left ( 2 x, \\quad 2 y, \\quad \\left \\{ x : 0, \\quad y : 0\\right \\}\\right )$$"
      ],
      "text/plain": [
       "(2⋅x, 2⋅y, {x: 0, y: 0})"
      ]
     },
     "execution_count": 46,
     "metadata": {},
     "output_type": "execute_result"
    }
   ],
   "source": [
    "f=x**2+y**2\n",
    "dfx=f.diff(x)\n",
    "dfy=f.diff(y)\n",
    "\n",
    "pc=solve([dfx,dfy],[x,y]) #Resuelve el sistema de dos ecuaciones y dos incógnitas\n",
    "\n",
    "dfx,dfy,pc"
   ]
  },
  {
   "cell_type": "code",
   "execution_count": 47,
   "metadata": {},
   "outputs": [
    {
     "data": {
      "image/png": "[encoded data removed]",
      "text/latex": [
       "$$\\left ( 4, \\quad 2\\right )$$"
      ],
      "text/plain": [
       "(4, 2)"
      ]
     },
     "execution_count": 47,
     "metadata": {},
     "output_type": "execute_result"
    }
   ],
   "source": [
    "dfxx=dfx.diff(x)\n",
    "dfxy=dfx.diff(y)\n",
    "dfyx=dfy.diff(x)\n",
    "dfyy=dfy.diff(y)\n",
    "D=dfxx*dfyy-dfxy\n",
    "D.subs(pc), dfxx.subs(pc)"
   ]
  },
  {
   "cell_type": "markdown",
   "metadata": {},
   "source": [
    "Optimización sin restricciones en varias variables\n",
    "--\n"
   ]
  },
  {
   "cell_type": "code",
   "execution_count": 49,
   "metadata": {},
   "outputs": [],
   "source": [
    "f=x**2+y**2"
   ]
  },
  {
   "cell_type": "code",
   "execution_count": 50,
   "metadata": {},
   "outputs": [
    {
     "data": {
      "image/png": "[encoded data removed]",
      "text/latex": [
       "$$\\left [ 2 x, \\quad 2 y\\right ]$$"
      ],
      "text/plain": [
       "[2⋅x, 2⋅y]"
      ]
     },
     "execution_count": 50,
     "metadata": {},
     "output_type": "execute_result"
    }
   ],
   "source": [
    "#gradient\n",
    "nablaf=[f.diff(var) for var in [x,y]] #En una sóla linea deriva respecto de x y respecto de y\n",
    "nablaf"
   ]
  },
  {
   "cell_type": "code",
   "execution_count": 51,
   "metadata": {},
   "outputs": [
    {
     "data": {
      "image/png": "[encoded data removed]",
      "text/latex": [
       "$$\\left \\{ x : 0, \\quad y : 0\\right \\}$$"
      ],
      "text/plain": [
       "{x: 0, y: 0}"
      ]
     },
     "execution_count": 51,
     "metadata": {},
     "output_type": "execute_result"
    }
   ],
   "source": [
    "#Puntos críticos\n",
    "solve(nablaf)"
   ]
  },
  {
   "cell_type": "code",
   "execution_count": 53,
   "metadata": {},
   "outputs": [
    {
     "data": {
      "image/png": "[encoded data removed]",
      "text/latex": [
       "$$\\left [ \\left [ 2, \\quad 0, \\quad 0, \\quad 2\\right ]\\right ]$$"
      ],
      "text/plain": [
       "[[2, 0, 0, 2]]"
      ]
     },
     "execution_count": 53,
     "metadata": {},
     "output_type": "execute_result"
    }
   ],
   "source": [
    "#hessian\n",
    "[[f.diff(varx).diff(vary) for varx in [x,y] for vary in [x,y]]]"
   ]
  },
  {
   "cell_type": "code",
   "execution_count": 55,
   "metadata": {},
   "outputs": [
    {
     "data": {
      "text/latex": [
       "$$\\left[\\begin{matrix}2 & 0\\\\0 & 2\\end{matrix}\\right]$$"
      ],
      "text/plain": [
       "⎡2  0⎤\n",
       "⎢    ⎥\n",
       "⎣0  2⎦"
      ]
     },
     "execution_count": 55,
     "metadata": {},
     "output_type": "execute_result"
    }
   ],
   "source": [
    "H=hessian(f,[x,y])\n",
    "H"
   ]
  },
  {
   "cell_type": "code",
   "execution_count": null,
   "metadata": {},
   "outputs": [],
   "source": []
  }
 ],
 "metadata": {
  "kernelspec": {
   "display_name": "Python 3",
   "language": "python",
   "name": "python3"
  },
  "language_info": {
   "codemirror_mode": {
    "name": "ipython",
    "version": 3
   },
   "file_extension": ".py",
   "mimetype": "text/x-python",
   "name": "python",
   "nbconvert_exporter": "python",
   "pygments_lexer": "ipython3",
   "version": "3.7.1"
  }
 },
 "nbformat": 4,
 "nbformat_minor": 2
}
