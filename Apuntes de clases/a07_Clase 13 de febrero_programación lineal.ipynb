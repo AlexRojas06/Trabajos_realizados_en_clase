{
 "cells": [
  {
   "cell_type": "markdown",
   "metadata": {},
   "source": [
    "Introducción a programación lineal\n",
    "--\n",
    "La programación lineal es el campo de la optimización dedicado a maximizar o minimizar (optimizar) una función lineal, denominada función objetivo, de tal forma que las variables de dicha función estén sujetas a una serie de restricciones expresadas mediante un sistema de ecuaciones o inecuaciones también lineales.\n"
   ]
  },
  {
   "cell_type": "markdown",
   "metadata": {},
   "source": [
    "Utilizar Pulp\n",
    "--\n"
   ]
  },
  {
   "cell_type": "code",
   "execution_count": 1,
   "metadata": {},
   "outputs": [
    {
     "name": "stdout",
     "output_type": "stream",
     "text": [
      "Collecting pulp\n",
      "  Downloading https://files.pythonhosted.org/packages/91/cd/8ed5d788973f6632cc44d0e95c486646c090c427c90667c901b75e544bc1/PuLP-1.6.9.zip (13.6MB)\n",
      "Requirement already satisfied: pyparsing>=2.0.1 in c:\\users\\usuario\\anaconda3\\lib\\site-packages (from pulp) (2.3.0)\n",
      "Building wheels for collected packages: pulp\n",
      "  Running setup.py bdist_wheel for pulp: started\n",
      "  Running setup.py bdist_wheel for pulp: finished with status 'done'\n",
      "  Stored in directory: C:\\Users\\usuario\\AppData\\Local\\pip\\Cache\\wheels\\3b\\f1\\f5\\f6d0aac56dd154c2593d3fa5e901aa9bc32a51bd8594b4bf8e\n",
      "Successfully built pulp\n",
      "Installing collected packages: pulp\n",
      "Successfully installed pulp-1.6.9\n"
     ]
    }
   ],
   "source": [
    "!pip install pulp"
   ]
  },
  {
   "cell_type": "code",
   "execution_count": 2,
   "metadata": {},
   "outputs": [],
   "source": [
    "from pulp import *"
   ]
  },
  {
   "cell_type": "code",
   "execution_count": 3,
   "metadata": {},
   "outputs": [],
   "source": [
    "pulp.LpVariable?"
   ]
  },
  {
   "cell_type": "code",
   "execution_count": 4,
   "metadata": {},
   "outputs": [],
   "source": [
    "mi_lp_problema=pulp.LpProblem(\"Mi LP Problema\", pulp.LpMinimize)\n",
    "\n",
    "x= pulp.LpVariable('x', lowBound=0, cat='Continuous')\n",
    "y= pulp.LpVariable('y', lowBound=0, cat='Continuous')\n",
    "\n",
    "#Objective function\n",
    "mi_lp_problema+=x+2*y\n",
    "\n",
    "#Consraints\n",
    "mi_lp_problema += 3*x + 4*y >=1\n",
    "mi_lp_problema += 2*x + 5*y >=2"
   ]
  },
  {
   "cell_type": "code",
   "execution_count": 5,
   "metadata": {},
   "outputs": [
    {
     "data": {
      "text/plain": [
       "Mi LP Problema:\n",
       "MINIMIZE\n",
       "1*x + 2*y + 0\n",
       "SUBJECT TO\n",
       "_C1: 3 x + 4 y >= 1\n",
       "\n",
       "_C2: 2 x + 5 y >= 2\n",
       "\n",
       "VARIABLES\n",
       "x Continuous\n",
       "y Continuous"
      ]
     },
     "execution_count": 5,
     "metadata": {},
     "output_type": "execute_result"
    }
   ],
   "source": [
    "mi_lp_problema\n"
   ]
  },
  {
   "cell_type": "code",
   "execution_count": 6,
   "metadata": {},
   "outputs": [
    {
     "data": {
      "text/plain": [
       "'Optimal'"
      ]
     },
     "execution_count": 6,
     "metadata": {},
     "output_type": "execute_result"
    }
   ],
   "source": [
    "mi_lp_problema.solve()\n",
    "pulp.LpStatus[mi_lp_problema.status]"
   ]
  },
  {
   "cell_type": "code",
   "execution_count": 8,
   "metadata": {},
   "outputs": [
    {
     "data": {
      "text/plain": [
       "0.0"
      ]
     },
     "execution_count": 8,
     "metadata": {},
     "output_type": "execute_result"
    }
   ],
   "source": [
    "h=mi_lp_problema.variables()[0]\n",
    "h.varValue"
   ]
  },
  {
   "cell_type": "code",
   "execution_count": 9,
   "metadata": {},
   "outputs": [
    {
     "name": "stdout",
     "output_type": "stream",
     "text": [
      "x=0.0\n",
      "y=0.4\n"
     ]
    }
   ],
   "source": [
    "for variable in mi_lp_problema.variables():\n",
    "    print (\"{}={}\".format(variable.name, variable.varValue))"
   ]
  },
  {
   "cell_type": "code",
   "execution_count": 11,
   "metadata": {},
   "outputs": [
    {
     "name": "stdout",
     "output_type": "stream",
     "text": [
      "0.8\n"
     ]
    }
   ],
   "source": [
    "print (pulp.value(mi_lp_problema.objective))"
   ]
  },
  {
   "cell_type": "markdown",
   "metadata": {},
   "source": [
    "Utilizando cvxopt\n",
    "--\n",
    "Se va a resolver el mismo problema utilizando esta librería"
   ]
  },
  {
   "cell_type": "code",
   "execution_count": 12,
   "metadata": {},
   "outputs": [
    {
     "name": "stdout",
     "output_type": "stream",
     "text": [
      "Collecting cvxopt\n",
      "  Downloading https://files.pythonhosted.org/packages/4f/f3/75ad5f2d09226008ba126eb260f81f602c23ec720dd6cf1da935ec894383/cvxopt-1.2.3-cp37-cp37m-win_amd64.whl (815kB)\n",
      "Collecting mkl (from cvxopt)\n",
      "  Downloading https://files.pythonhosted.org/packages/56/39/537cb3e4e93f1ac5085dc3b3a43cfd99d0af9b29c44fcaa99490f526b611/mkl-2019.0-py2.py3-none-win_amd64.whl (224.1MB)\n",
      "Collecting intel-openmp (from mkl->cvxopt)\n",
      "  Downloading https://files.pythonhosted.org/packages/2f/24/2562ec7515e44dea49867fab2c75704c0014d5d3da1f4e9f3bcfac717e5f/intel_openmp-2019.0-py2.py3-none-win_amd64.whl (1.9MB)\n",
      "Installing collected packages: intel-openmp, mkl, cvxopt\n",
      "Successfully installed cvxopt-1.2.3 intel-openmp-2019.0 mkl-2019.0\n"
     ]
    }
   ],
   "source": [
    "!pip install cvxopt"
   ]
  },
  {
   "cell_type": "code",
   "execution_count": 17,
   "metadata": {},
   "outputs": [
    {
     "name": "stdout",
     "output_type": "stream",
     "text": [
      "     pcost       dcost       gap    pres   dres   k/t\n",
      " 0:  6.7308e-01  3.7308e+00  6e+00  1e+00  5e+00  1e+00\n",
      " 1:  8.4233e-01  1.0964e+00  5e-01  1e-01  6e-01  6e-03\n",
      " 2:  8.0538e-01  8.2298e-01  2e-02  8e-03  4e-02  2e-03\n",
      " 3:  8.0005e-01  8.0026e-01  2e-04  1e-04  5e-04  3e-05\n",
      " 4:  8.0000e-01  8.0000e-01  2e-06  1e-06  5e-06  3e-07\n",
      " 5:  8.0000e-01  8.0000e-01  2e-08  1e-08  5e-08  3e-09\n",
      "Optimal solution found.\n",
      "[ 1.86e-08]\n",
      "[ 4.00e-01]\n",
      "\n"
     ]
    }
   ],
   "source": [
    "from cvxopt import matrix, solvers\n",
    "\n",
    "A=matrix([ [-3.0,-2.0,-1.0,-0.0],\n",
    "           [-4.0,-5.0,0.0,-1.0] ])\n",
    "\n",
    "b=matrix([ -1.0,-2.0,0.0,0.0])\n",
    "c=matrix([ 1.0, 2.0])\n",
    "sol=solvers.lp(c,A,b)\n",
    "\n",
    "print (sol['x'])"
   ]
  },
  {
   "cell_type": "markdown",
   "metadata": {},
   "source": [
    "Ejemplo 5.1 Usando pulp\n",
    "--"
   ]
  },
  {
   "cell_type": "markdown",
   "metadata": {},
   "source": [
    "Método cvxopt\n",
    "--\n"
   ]
  },
  {
   "cell_type": "code",
   "execution_count": 18,
   "metadata": {},
   "outputs": [
    {
     "name": "stdout",
     "output_type": "stream",
     "text": [
      "     pcost       dcost       gap    pres   dres   k/t\n",
      " 0:  2.6471e+00 -7.0588e-01  2e+01  8e-01  2e+00  1e+00\n",
      " 1:  3.0726e+00  2.8437e+00  1e+00  1e-01  2e-01  3e-01\n",
      " 2:  2.4891e+00  2.4808e+00  1e-01  1e-02  2e-02  5e-02\n",
      " 3:  2.4999e+00  2.4998e+00  1e-03  1e-04  2e-04  5e-04\n",
      " 4:  2.5000e+00  2.5000e+00  1e-05  1e-06  2e-06  5e-06\n",
      " 5:  2.5000e+00  2.5000e+00  1e-07  1e-08  2e-08  5e-08\n",
      "Optimal solution found.\n",
      "[ 5.00e-01]\n",
      "[ 1.50e+00]\n",
      "\n"
     ]
    }
   ],
   "source": [
    "from cvxopt import matrix, solvers\n",
    "\n",
    "A=matrix([ [-1.0,-1.0,0.0,1.0],\n",
    "           [1.0,-1.0,-1.0,-2.0] ])\n",
    "\n",
    "b=matrix([ 1.0,-2.0,0.0,4.0])\n",
    "c=matrix([ 2.0, 1.0])\n",
    "sol=solvers.lp(c,A,b)\n",
    "\n",
    "print (sol['x'])"
   ]
  },
  {
   "cell_type": "markdown",
   "metadata": {},
   "source": [
    "Método Pulp\n",
    "--"
   ]
  },
  {
   "cell_type": "code",
   "execution_count": 20,
   "metadata": {},
   "outputs": [],
   "source": [
    "mi_lp_problema=pulp.LpProblem(\"Mi LP Problema\", pulp.LpMinimize)\n",
    "\n",
    "x= pulp.LpVariable('x', lowBound=0, cat='Continuous')\n",
    "y= pulp.LpVariable('y', lowBound=0, cat='Continuous')\n",
    "\n",
    "#Objective function\n",
    "mi_lp_problema+=2*x+y\n",
    "\n",
    "#Consraints\n",
    "mi_lp_problema += -1*x + 1*y <=1\n",
    "mi_lp_problema += -1*x + -1*y <=-2\n",
    "mi_lp_problema += 0*x + -1*y <=0\n",
    "mi_lp_problema += 1*x + -2*y <=4"
   ]
  },
  {
   "cell_type": "code",
   "execution_count": 23,
   "metadata": {},
   "outputs": [
    {
     "data": {
      "text/plain": [
       "Mi LP Problema:\n",
       "MINIMIZE\n",
       "2*x + 1*y + 0\n",
       "SUBJECT TO\n",
       "_C1: - x + y <= 1\n",
       "\n",
       "_C2: - x - y <= -2\n",
       "\n",
       "_C3: - y <= 0\n",
       "\n",
       "_C4: x - 2 y <= 4\n",
       "\n",
       "VARIABLES\n",
       "x Continuous\n",
       "y Continuous"
      ]
     },
     "execution_count": 23,
     "metadata": {},
     "output_type": "execute_result"
    }
   ],
   "source": [
    "mi_lp_problema"
   ]
  },
  {
   "cell_type": "code",
   "execution_count": 21,
   "metadata": {},
   "outputs": [
    {
     "data": {
      "text/plain": [
       "'Optimal'"
      ]
     },
     "execution_count": 21,
     "metadata": {},
     "output_type": "execute_result"
    }
   ],
   "source": [
    "mi_lp_problema.solve()\n",
    "pulp.LpStatus[mi_lp_problema.status]"
   ]
  },
  {
   "cell_type": "code",
   "execution_count": 22,
   "metadata": {},
   "outputs": [
    {
     "name": "stdout",
     "output_type": "stream",
     "text": [
      "x=0.5\n",
      "y=1.5\n"
     ]
    }
   ],
   "source": [
    "for variable in mi_lp_problema.variables():\n",
    "    print (\"{}={}\".format(variable.name, variable.varValue))"
   ]
  },
  {
   "cell_type": "markdown",
   "metadata": {},
   "source": [
    "Método scipy.optimize\n",
    "--\n"
   ]
  },
  {
   "cell_type": "code",
   "execution_count": 25,
   "metadata": {},
   "outputs": [
    {
     "name": "stdout",
     "output_type": "stream",
     "text": [
      "Optimization terminated successfully.\n",
      "         Current function value: 2.500000    \n",
      "         Iterations: 2\n",
      "     fun: 2.5\n",
      " message: 'Optimization terminated successfully.'\n",
      "     nit: 2\n",
      "   slack: array([0. , 6.5, 0. ])\n",
      "  status: 0\n",
      " success: True\n",
      "       x: array([0.5, 1.5])\n"
     ]
    }
   ],
   "source": [
    "from scipy.optimize import linprog\n",
    "\n",
    "c=[2,1]\n",
    "A=[[-1,1],\n",
    "   [-1,-1],\n",
    "   [1,-2]]\n",
    "\n",
    "b=[1,-2,4]\n",
    "\n",
    "x0_bounds=(0,None)\n",
    "x1_bounds=(0,None)\n",
    "\n",
    "res=linprog(c, A_ub=A, b_ub=b, bounds=(x0_bounds, x1_bounds),\n",
    "            options={\"disp\":True})\n",
    "print(res)"
   ]
  },
  {
   "cell_type": "markdown",
   "metadata": {},
   "source": [
    "Tarea:\n",
    "\n",
    "www.coin-or.org/PuLP/CaseStudies/a_blending_problem.html"
   ]
  }
 ],
 "metadata": {
  "kernelspec": {
   "display_name": "Python 3",
   "language": "python",
   "name": "python3"
  },
  "language_info": {
   "codemirror_mode": {
    "name": "ipython",
    "version": 3
   },
   "file_extension": ".py",
   "mimetype": "text/x-python",
   "name": "python",
   "nbconvert_exporter": "python",
   "pygments_lexer": "ipython3",
   "version": "3.7.1"
  }
 },
 "nbformat": 4,
 "nbformat_minor": 2
}
