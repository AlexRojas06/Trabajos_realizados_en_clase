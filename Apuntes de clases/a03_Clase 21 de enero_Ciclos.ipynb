{
 "cells": [
  {
   "cell_type": "code",
   "execution_count": 3,
   "metadata": {},
   "outputs": [
    {
     "name": "stdout",
     "output_type": "stream",
     "text": [
      "Programa terminado\n",
      "Programa terminado\n"
     ]
    }
   ],
   "source": [
    "i=1\n",
    "while i<=2:\n",
    "    print(\"Programa terminado\")\n",
    "    i+=1"
   ]
  },
  {
   "cell_type": "code",
   "execution_count": 6,
   "metadata": {},
   "outputs": [
    {
     "name": "stdout",
     "output_type": "stream",
     "text": [
      "10\n",
      "20\n",
      "30\n",
      "40\n",
      "50\n"
     ]
    }
   ],
   "source": [
    "condicion=True\n",
    "i=10\n",
    "while condicion:\n",
    "    if i>=50:\n",
    "        condicion=False\n",
    "    print (i)\n",
    "    i+=10"
   ]
  },
  {
   "cell_type": "code",
   "execution_count": 4,
   "metadata": {},
   "outputs": [
    {
     "name": "stdout",
     "output_type": "stream",
     "text": [
      "5\n",
      "15\n",
      "45\n",
      "135\n"
     ]
    }
   ],
   "source": [
    "condicion=True\n",
    "i=1\n",
    "numero=5\n",
    "while condicion:\n",
    "    if i>=4:\n",
    "        condicion=False\n",
    "    print (numero)\n",
    "    numero=numero*3\n",
    "    i=i+1\n",
    "    "
   ]
  },
  {
   "cell_type": "code",
   "execution_count": 6,
   "metadata": {},
   "outputs": [
    {
     "name": "stdout",
     "output_type": "stream",
     "text": [
      "3\n",
      "5\n",
      "7\n",
      "9\n"
     ]
    }
   ],
   "source": [
    "condicion=True\n",
    "i=1\n",
    "numero=3\n",
    "while condicion:\n",
    "    if i>=4:\n",
    "        condicion=False\n",
    "    print (numero)\n",
    "    numero=numero+2\n",
    "    i=i+1"
   ]
  },
  {
   "cell_type": "code",
   "execution_count": 8,
   "metadata": {},
   "outputs": [
    {
     "name": "stdout",
     "output_type": "stream",
     "text": [
      "5\n",
      "2\n",
      "-1\n",
      "-4\n"
     ]
    }
   ],
   "source": [
    "#Genere la progresión aritmética 5,2,-1,-4\n",
    "condicion=True\n",
    "i=1\n",
    "numero=5\n",
    "while condicion:\n",
    "    if i>=4:\n",
    "        condicion=False\n",
    "    print (numero)\n",
    "    numero=numero-3\n",
    "    i=i+1"
   ]
  },
  {
   "cell_type": "code",
   "execution_count": 12,
   "metadata": {},
   "outputs": [
    {
     "name": "stdout",
     "output_type": "stream",
     "text": [
      "1 1\n"
     ]
    }
   ],
   "source": [
    "i=1\n",
    "print(i,i)"
   ]
  },
  {
   "cell_type": "code",
   "execution_count": 11,
   "metadata": {},
   "outputs": [
    {
     "name": "stdout",
     "output_type": "stream",
     "text": [
      "H H\n",
      "o o\n",
      "l l\n",
      "a a\n",
      "   \n",
      "m m\n",
      "u u\n",
      "n n\n",
      "d d\n",
      "o o\n",
      "Programa terminado\n"
     ]
    }
   ],
   "source": [
    "#Bucles\n",
    "for i in \"Hola mundo\":\n",
    "    print(i,i)\n",
    "print (\"Programa terminado\")"
   ]
  },
  {
   "cell_type": "code",
   "execution_count": 15,
   "metadata": {},
   "outputs": [
    {
     "name": "stdout",
     "output_type": "stream",
     "text": [
      "0\n",
      "2\n",
      "4\n",
      "6\n",
      "8\n",
      "Programa terminado\n"
     ]
    }
   ],
   "source": [
    "for i in range (0,10,2): #No incluye el 10 porque los paréntesis indican conjunto abierto\n",
    "    print (i)\n",
    "print (\"Programa terminado\")"
   ]
  },
  {
   "cell_type": "code",
   "execution_count": 16,
   "metadata": {},
   "outputs": [
    {
     "name": "stdout",
     "output_type": "stream",
     "text": [
      "<class 'str'> 11\n",
      "<class 'str'> 22\n",
      "<class 'str'> 33\n",
      "<class 'str'> 44\n",
      "<class 'str'> 55\n"
     ]
    }
   ],
   "source": [
    "for i in '12345':\n",
    "    print (type(i),i+i)"
   ]
  },
  {
   "cell_type": "code",
   "execution_count": 18,
   "metadata": {},
   "outputs": [
    {
     "name": "stdout",
     "output_type": "stream",
     "text": [
      "1\n",
      "Segundo i: 2\n",
      "Segundo i: 2\n",
      "Segundo i: 2\n",
      "Segundo i: 2\n",
      "2\n",
      "Segundo i: 3\n",
      "Segundo i: 3\n",
      "Segundo i: 3\n",
      "Segundo i: 3\n",
      "3\n",
      "Segundo i: 4\n",
      "Segundo i: 4\n",
      "Segundo i: 4\n",
      "Segundo i: 4\n",
      "4\n",
      "5\n",
      "Segundo i: 6\n",
      "Segundo i: 6\n",
      "Segundo i: 6\n",
      "Segundo i: 6\n",
      "6\n",
      "Segundo i: 7\n",
      "Segundo i: 7\n",
      "Segundo i: 7\n",
      "Segundo i: 7\n",
      "7\n",
      "Segundo i: 8\n",
      "Segundo i: 8\n",
      "Segundo i: 8\n",
      "Segundo i: 8\n",
      "8\n",
      "Segundo i: 9\n",
      "Segundo i: 9\n",
      "Segundo i: 9\n",
      "Segundo i: 9\n",
      "9\n",
      "Segundo i: 10\n",
      "Segundo i: 10\n",
      "Segundo i: 10\n",
      "Segundo i: 10\n",
      "10\n",
      "Segundo i: 11\n",
      "Segundo i: 11\n",
      "Segundo i: 11\n",
      "Segundo i: 11\n",
      "Programa terminado\n"
     ]
    }
   ],
   "source": [
    "i=1\n",
    "while i<=10:\n",
    "    print (i)\n",
    "    i+=1\n",
    "    if i==5:\n",
    "        continue\n",
    "    print (\"Segundo i:\",i)\n",
    "    print (\"Segundo i:\",i)\n",
    "    print (\"Segundo i:\",i)\n",
    "    print (\"Segundo i:\",i)\n",
    "    \n",
    "print (\"Programa terminado\")\n",
    "    "
   ]
  },
  {
   "cell_type": "code",
   "execution_count": 1,
   "metadata": {},
   "outputs": [],
   "source": [
    "#Generar números pseudoaleatorios\n",
    "import random as ran"
   ]
  },
  {
   "cell_type": "code",
   "execution_count": 3,
   "metadata": {},
   "outputs": [
    {
     "name": "stdout",
     "output_type": "stream",
     "text": [
      "5\n"
     ]
    }
   ],
   "source": [
    "num_adivinar = ran.randint(1,6)\n",
    "print (num_adivinar)"
   ]
  },
  {
   "cell_type": "code",
   "execution_count": 25,
   "metadata": {},
   "outputs": [
    {
     "name": "stdout",
     "output_type": "stream",
     "text": [
      "7\n",
      "Adivina numero del 0 al 10: 1\n",
      "Intentalo de nuevo\n",
      "Adivina numero del 0 al 10: 2\n",
      "Intentalo de nuevo\n",
      "Adivina numero del 0 al 10: 3\n",
      "Perdiste\n",
      "Intentos:  [1, 2, 3]\n"
     ]
    }
   ],
   "source": [
    "import random as ran\n",
    "\n",
    "num_adivinar=ran.randint(1,10)\n",
    "i=1\n",
    "prueba=False\n",
    "lista=[]\n",
    "\n",
    "print (num_adivinar)\n",
    "\n",
    "while prueba==False:\n",
    "    numero=int(input (\"Adivina numero del 0 al 10: \"))\n",
    "    lista.append(numero)\n",
    "    if numero==num_adivinar:\n",
    "        prueba=True\n",
    "        print (\"Ganaste\")\n",
    "\n",
    "    if i==3:\n",
    "        if prueba==False:\n",
    "            print (\"Perdiste\")\n",
    "            prueba=True\n",
    "    else:\n",
    "        if prueba==False:\n",
    "            print (\"Intentalo de nuevo\")\n",
    "    i=i+1\n",
    "       \n",
    "print (\"Intentos: \", lista)\n"
   ]
  },
  {
   "cell_type": "markdown",
   "metadata": {},
   "source": []
  },
  {
   "cell_type": "code",
   "execution_count": null,
   "metadata": {},
   "outputs": [],
   "source": [
    "#Tuplas () son las que no se pueden modificar\n",
    "leche= \"leche\"\n",
    "tupla_a= (\"pan\", leche, 100, 1234, True, 234.3)"
   ]
  },
  {
   "cell_type": "code",
   "execution_count": 9,
   "metadata": {},
   "outputs": [
    {
     "name": "stdout",
     "output_type": "stream",
     "text": [
      "['pan', 'leche', 100]  es  <class 'list'>\n"
     ]
    }
   ],
   "source": [
    "a='pan'\n",
    "b='leche'\n",
    "c=100\n",
    "\n",
    "tupla_b=a,b,c\n",
    "tupla_b=[a,b,c]\n",
    "\n",
    "print (tupla_b, \" es \", type(tupla_b))"
   ]
  },
  {
   "cell_type": "code",
   "execution_count": 10,
   "metadata": {},
   "outputs": [
    {
     "name": "stdout",
     "output_type": "stream",
     "text": [
      "100 leche pan\n"
     ]
    }
   ],
   "source": [
    "#Desempaquetamiento\n",
    "c,b,a=tupla_b\n",
    "print (a,b,c)"
   ]
  },
  {
   "cell_type": "code",
   "execution_count": 4,
   "metadata": {},
   "outputs": [
    {
     "name": "stdout",
     "output_type": "stream",
     "text": [
      "leche\n",
      "234.3\n",
      "['pan', 'leche', 100, 1234, True, 234.3]\n"
     ]
    }
   ],
   "source": [
    "#Listas [] son las que sí se pueden modificar\n",
    "lista_a= [\"pan\", \"leche\", 100, 1234, True, 234.3]\n",
    "print (lista_a[1])\n",
    "print (lista_a[-1])\n",
    "print (lista_a)\n",
    "\n"
   ]
  },
  {
   "cell_type": "code",
   "execution_count": 7,
   "metadata": {
    "scrolled": true
   },
   "outputs": [
    {
     "name": "stdout",
     "output_type": "stream",
     "text": [
      "['pan', 'leche', 100, 1234, True, 234.3]\n",
      "['pan', 'leche', 1234, True, 234.3]\n"
     ]
    }
   ],
   "source": [
    "# del busca la posición y la elimina\n",
    "lista_a= [\"pan\", \"leche\", 100, 1234, True, 234.3]\n",
    "print (lista_a)\n",
    "del lista_a[2]\n",
    "print (lista_a)"
   ]
  },
  {
   "cell_type": "code",
   "execution_count": 6,
   "metadata": {},
   "outputs": [
    {
     "name": "stdout",
     "output_type": "stream",
     "text": [
      "['pan', 'leche', 100, 1234, True, 234.3]\n",
      "['pan', 'leche', 100, True, 234.3]\n"
     ]
    }
   ],
   "source": [
    "# remove busca el valor y lo elimina\n",
    "lista_a= [\"pan\", \"leche\", 100, 1234, True, 234.3]\n",
    "print (lista_a)\n",
    "lista_a.remove(1234)\n",
    "print (lista_a)"
   ]
  },
  {
   "cell_type": "code",
   "execution_count": 8,
   "metadata": {},
   "outputs": [
    {
     "data": {
      "text/plain": [
       "[1234, True, 234.3]"
      ]
     },
     "execution_count": 8,
     "metadata": {},
     "output_type": "execute_result"
    }
   ],
   "source": [
    "lista_a[2:5]"
   ]
  },
  {
   "cell_type": "code",
   "execution_count": 9,
   "metadata": {},
   "outputs": [
    {
     "name": "stdout",
     "output_type": "stream",
     "text": [
      "[]\n",
      "['pan']\n",
      "['pan', 'leche']\n"
     ]
    }
   ],
   "source": [
    "# append para añadir valores a la lista\n",
    "lista_b=[]\n",
    "print (lista_b)\n",
    "lista_b.append(\"pan\")\n",
    "print (lista_b)\n",
    "lista_b.append(\"leche\")\n",
    "print (lista_b)"
   ]
  },
  {
   "cell_type": "code",
   "execution_count": 13,
   "metadata": {},
   "outputs": [
    {
     "data": {
      "text/plain": [
       "(1, 2, 3, 4)"
      ]
     },
     "execution_count": 13,
     "metadata": {},
     "output_type": "execute_result"
    }
   ],
   "source": [
    "tupla=(1,2,3,4)\n",
    "lista=list(tupla)\n",
    "tuple(lista)"
   ]
  },
  {
   "cell_type": "code",
   "execution_count": 23,
   "metadata": {},
   "outputs": [
    {
     "data": {
      "text/plain": [
       "100"
      ]
     },
     "execution_count": 23,
     "metadata": {},
     "output_type": "execute_result"
    }
   ],
   "source": [
    "#Diccionarios\n",
    "diccionario_a={\"Pedro\":100,\"Juan\":200}\n",
    "diccionario_a [\"Pedro\"]"
   ]
  },
  {
   "cell_type": "code",
   "execution_count": 20,
   "metadata": {},
   "outputs": [
    {
     "name": "stdout",
     "output_type": "stream",
     "text": [
      "{'a', 1, 'b'}\n"
     ]
    }
   ],
   "source": [
    "#Conjuntos:cuando no pones los dos puntos\n",
    "set_a={'a',1,1,'b','a'}\n",
    "print(set_a)\n",
    "#Quita los repetidos en el arreglo porque ya pertenecen a un conjunto"
   ]
  },
  {
   "cell_type": "code",
   "execution_count": 21,
   "metadata": {},
   "outputs": [],
   "source": [
    "A={1,2,3,4}\n",
    "B=set([3,4,5,6]) #Convierte una lista a conjunto"
   ]
  },
  {
   "cell_type": "code",
   "execution_count": 22,
   "metadata": {},
   "outputs": [
    {
     "data": {
      "text/plain": [
       "{1, 2}"
      ]
     },
     "execution_count": 22,
     "metadata": {},
     "output_type": "execute_result"
    }
   ],
   "source": [
    "A-B"
   ]
  },
  {
   "cell_type": "code",
   "execution_count": null,
   "metadata": {},
   "outputs": [],
   "source": [
    "#Tarea: Terminar el juego usando listas"
   ]
  },
  {
   "cell_type": "code",
   "execution_count": null,
   "metadata": {},
   "outputs": [],
   "source": [
    "#Tecnicas de enumeracion\n",
    "for i, v in enumerate ([\"leche\", 'pera', 'manzana', 'naranja'])\n"
   ]
  },
  {
   "cell_type": "code",
   "execution_count": 27,
   "metadata": {},
   "outputs": [
    {
     "name": "stdout",
     "output_type": "stream",
     "text": [
      "('Pedro', 100)\n",
      "('Juan', 300)\n",
      "('Carlos', 2000)\n",
      "('Diego', 1000)\n"
     ]
    }
   ],
   "source": [
    "nombres=[\"Pedro\", \"Juan\", \"Carlos\", \"Diego\"]\n",
    "valores=(100,300,2000,1000,45,234)\n",
    "\n",
    "for k in zip (nombres, valores):\n",
    "    print (k)"
   ]
  },
  {
   "cell_type": "code",
   "execution_count": 28,
   "metadata": {},
   "outputs": [
    {
     "name": "stdout",
     "output_type": "stream",
     "text": [
      "('Pedro', 100) Pedro 100\n",
      "('Juan', 300) Juan 300\n",
      "('Carlos', 2000) Carlos 2000\n",
      "('Diego', 1000) Diego 1000\n"
     ]
    }
   ],
   "source": [
    "nombres=[\"Pedro\", \"Juan\", \"Carlos\", \"Diego\"]\n",
    "valores=(100,300,2000,1000,45,234)\n",
    "\n",
    "for k in zip (nombres, valores):\n",
    "    print (k,k[0],k[1])"
   ]
  },
  {
   "cell_type": "markdown",
   "metadata": {},
   "source": [
    "Genere la siguiente progresión geométrica\n",
    "--\n",
    "5,15,45,135,405,..., es una progresión geométrica con razón igual a 3, porque cada elemento es el triple del anterior"
   ]
  },
  {
   "cell_type": "code",
   "execution_count": 2,
   "metadata": {},
   "outputs": [
    {
     "name": "stdout",
     "output_type": "stream",
     "text": [
      "5\n",
      "15\n",
      "45\n",
      "135\n",
      "405\n"
     ]
    }
   ],
   "source": [
    "a=5\n",
    "while a<406:\n",
    "    print(a)\n",
    "    a*=3 #a=a*3"
   ]
  },
  {
   "cell_type": "markdown",
   "metadata": {},
   "source": [
    "Genere la siguiente progresión geométrica\n",
    "--\n",
    "3,5,7,9,...\n",
    "\n",
    "5,2,-1,-4,..."
   ]
  },
  {
   "cell_type": "code",
   "execution_count": 5,
   "metadata": {},
   "outputs": [
    {
     "name": "stdout",
     "output_type": "stream",
     "text": [
      "3\n",
      "5\n",
      "7\n",
      "9\n"
     ]
    }
   ],
   "source": [
    "a=3\n",
    "while a<=9:\n",
    "    print(a)\n",
    "    a+=2 "
   ]
  },
  {
   "cell_type": "code",
   "execution_count": 6,
   "metadata": {},
   "outputs": [
    {
     "name": "stdout",
     "output_type": "stream",
     "text": [
      "5\n",
      "2\n",
      "-1\n",
      "-4\n"
     ]
    }
   ],
   "source": [
    "a=5\n",
    "while a>=-4:\n",
    "    print(a)\n",
    "    a-=3 "
   ]
  },
  {
   "cell_type": "code",
   "execution_count": 9,
   "metadata": {},
   "outputs": [
    {
     "name": "stdout",
     "output_type": "stream",
     "text": [
      "[]\n",
      "['pan']\n",
      "['pan', 'leche']\n",
      "<class 'list'>\n"
     ]
    }
   ],
   "source": [
    "lista_b=[]\n",
    "print(lista_b)\n",
    "lista_b.append(\"pan\")\n",
    "print(lista_b)\n",
    "lista_b.append(\"leche\")\n",
    "print(lista_b)\n"
   ]
  }
 ],
 "metadata": {
  "kernelspec": {
   "display_name": "Python 3",
   "language": "python",
   "name": "python3"
  },
  "language_info": {
   "codemirror_mode": {
    "name": "ipython",
    "version": 3
   },
   "file_extension": ".py",
   "mimetype": "text/x-python",
   "name": "python",
   "nbconvert_exporter": "python",
   "pygments_lexer": "ipython3",
   "version": "3.7.1"
  }
 },
 "nbformat": 4,
 "nbformat_minor": 2
}
