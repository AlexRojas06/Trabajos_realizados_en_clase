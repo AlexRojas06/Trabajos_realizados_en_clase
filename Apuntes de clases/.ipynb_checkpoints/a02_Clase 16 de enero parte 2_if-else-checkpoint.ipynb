{
 "cells": [
  {
   "cell_type": "code",
   "execution_count": 1,
   "metadata": {},
   "outputs": [
    {
     "name": "stdout",
     "output_type": "stream",
     "text": [
      "Escribe el radio: 5\n",
      "78.53999999999999\n"
     ]
    }
   ],
   "source": [
    "r=input(\"Escribe el radio: \")\n",
    "r=float (r)\n",
    "pi=3.1416\n",
    "A=pi*r**2\n",
    "print(A)"
   ]
  },
  {
   "cell_type": "code",
   "execution_count": 3,
   "metadata": {},
   "outputs": [
    {
     "name": "stdout",
     "output_type": "stream",
     "text": [
      "Escribe el radio5\n",
      "El area es  78.53975\n"
     ]
    }
   ],
   "source": [
    "r=float(input(\"Escribe el radio\"))\n",
    "print (\"El area es \", 3.14159*r**2)"
   ]
  },
  {
   "cell_type": "code",
   "execution_count": 5,
   "metadata": {},
   "outputs": [
    {
     "name": "stdout",
     "output_type": "stream",
     "text": [
      "Sólo trabajo y nada\n"
     ]
    }
   ],
   "source": [
    "a=\"Sólo\"\n",
    "b=\"trabajo\"\n",
    "c=\"y\"\n",
    "d=\"nada\"\n",
    "print(a,b,c,d)\n"
   ]
  },
  {
   "cell_type": "code",
   "execution_count": 1,
   "metadata": {},
   "outputs": [
    {
     "data": {
      "text/plain": [
       "6"
      ]
     },
     "execution_count": 1,
     "metadata": {},
     "output_type": "execute_result"
    }
   ],
   "source": [
    "(6*1)-2 +2\n"
   ]
  },
  {
   "cell_type": "code",
   "execution_count": 8,
   "metadata": {},
   "outputs": [
    {
     "data": {
      "text/plain": [
       "-6"
      ]
     },
     "execution_count": 8,
     "metadata": {},
     "output_type": "execute_result"
    }
   ],
   "source": [
    "6*(1-2)"
   ]
  },
  {
   "cell_type": "code",
   "execution_count": 15,
   "metadata": {},
   "outputs": [
    {
     "name": "stdout",
     "output_type": "stream",
     "text": [
      "Escribe el número de años: 4\n",
      "A 137.566610043379\n"
     ]
    }
   ],
   "source": [
    "p=100\n",
    "n=12\n",
    "r=0.08\n",
    "t=input(\"Escribe el número de años: \")\n",
    "t=float(t)\n",
    "print(\"A\", p*(1+r/n)**(n*t))"
   ]
  },
  {
   "cell_type": "code",
   "execution_count": 19,
   "metadata": {},
   "outputs": [
    {
     "name": "stdout",
     "output_type": "stream",
     "text": [
      "Hola\n",
      "\n",
      "\n",
      "Mundo\n"
     ]
    }
   ],
   "source": [
    "print(\"\"\"Hola\n",
    "\n",
    "\n",
    "Mundo\"\"\")"
   ]
  },
  {
   "cell_type": "code",
   "execution_count": 21,
   "metadata": {},
   "outputs": [
    {
     "name": "stdout",
     "output_type": "stream",
     "text": [
      "Que \n",
      "Rollo\n"
     ]
    }
   ],
   "source": [
    "#El doble ampersand (&&) no existe\n",
    "if 5>10:\n",
    "    print(\"Que \")\n",
    "    print(\"Onda\")\n",
    "else:\n",
    "    print(\"Que \")\n",
    "    print(\"Rollo\")"
   ]
  },
  {
   "cell_type": "code",
   "execution_count": null,
   "metadata": {},
   "outputs": [],
   "source": [
    "respuesta=float(input(\"\"\"Bienvenido a tu convertidor de divisas:\n",
    "\n",
    "          Pesos a dolar (presiona 1)\n",
    "          Dolar a peso  (presiona 2)\n",
    "          \n",
    "          *Un dolar equivale  a 18.89 MXN\n",
    "\"\"\"))\n",
    "if respuesta==1:  \n",
    "    pesos=float(input(\"Escribe el valor en pesos: \"))\n",
    "    dolar=18.89*pesos\n",
    "    print(\"Tu valo en dólares es: \", dolar)\n",
    "elif respuesta==2:\n",
    "    dolar=float(input(\"Escribe el valor en pesos: \"))\n",
    "    peso=dolar/18.89\n",
    "    print(\"Tu valo en pesos es: \", peso)\n",
    "else:\n",
    "    print(\"Hey qué pedo\")\n",
    "    "
   ]
  },
  {
   "cell_type": "code",
   "execution_count": 2,
   "metadata": {},
   "outputs": [
    {
     "name": "stdout",
     "output_type": "stream",
     "text": [
      "Dame el numero entero: 10\n",
      "Número par\n"
     ]
    }
   ],
   "source": [
    "numero=float(input(\"Dame el numero entero: \"))\n",
    "prueba=numero%2\n",
    "if prueba==0:\n",
    "    print(\"Número par\")\n",
    "else:\n",
    "    print(\"Numero impar\")"
   ]
  },
  {
   "cell_type": "code",
   "execution_count": null,
   "metadata": {},
   "outputs": [],
   "source": [
    "# () Tuplas, [] Listas, {} Diccionarios\n",
    "\n",
    "#Las tuplas son, a diferencia de las listas, inmutables (no puedes añadir elementos fuera del rango)\n"
   ]
  }
 ],
 "metadata": {
  "kernelspec": {
   "display_name": "Python 3",
   "language": "python",
   "name": "python3"
  },
  "language_info": {
   "codemirror_mode": {
    "name": "ipython",
    "version": 3
   },
   "file_extension": ".py",
   "mimetype": "text/x-python",
   "name": "python",
   "nbconvert_exporter": "python",
   "pygments_lexer": "ipython3",
   "version": "3.7.3"
  }
 },
 "nbformat": 4,
 "nbformat_minor": 2
}
