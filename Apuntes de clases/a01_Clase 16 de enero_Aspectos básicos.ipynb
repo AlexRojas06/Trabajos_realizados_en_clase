{
 "cells": [
  {
   "cell_type": "code",
   "execution_count": 2,
   "metadata": {},
   "outputs": [
    {
     "name": "stdout",
     "output_type": "stream",
     "text": [
      "Escribe el radio: 5\n",
      "78.53999999999999\n"
     ]
    }
   ],
   "source": [
    "r=input(\"Escribe el radio: \")\n",
    "r=float (r)\n",
    "pi=3.1416\n",
    "A=pi*r**2\n",
    "print(A)"
   ]
  },
  {
   "cell_type": "code",
   "execution_count": 3,
   "metadata": {},
   "outputs": [
    {
     "name": "stdout",
     "output_type": "stream",
     "text": [
      "Escribe el radio5\n",
      "El area es  78.53975\n"
     ]
    }
   ],
   "source": [
    "r=float(input(\"Escribe el radio\"))\n",
    "print (\"El area es \", 3.14159*r**2)"
   ]
  }
 ],
 "metadata": {
  "kernelspec": {
   "display_name": "Python 3",
   "language": "python",
   "name": "python3"
  },
  "language_info": {
   "codemirror_mode": {
    "name": "ipython",
    "version": 3
   },
   "file_extension": ".py",
   "mimetype": "text/x-python",
   "name": "python",
   "nbconvert_exporter": "python",
   "pygments_lexer": "ipython3",
   "version": "3.7.1"
  }
 },
 "nbformat": 4,
 "nbformat_minor": 2
}
